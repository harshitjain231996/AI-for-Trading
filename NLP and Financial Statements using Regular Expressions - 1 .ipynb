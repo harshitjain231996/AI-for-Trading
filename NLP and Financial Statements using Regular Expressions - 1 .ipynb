{
 "cells": [
  {
   "cell_type": "markdown",
   "metadata": {},
   "source": [
    "For long term investments in a company, there is a lot of information besides basic trading data such as market share, growth potential, products and services. We can get all this information about the company from financial reports. In the US there is Security and exchange commission created to protect investors and facilitate closure of corporate information. By law, large publically traded companies are required to file periodic financial reports with the SEC and these reports must be truthful and accurate as they can be used for making investment decisions. Most common reports are called 10-K which are filed annually and 10-Q's which are filed quarterly. 10-K's are long and detailed documents separated into 4 main parts. \n",
    "1. Part 1 - Business Overview. contains important information about risks and possible legal proceedings.\n",
    "2. Part 2 - Markets/Finance. It includes discussions on market conditions, projections and highlights of the financial reports.\n",
    "3. Part 3 - Governance. It includes information on executive board members and compensations.\n",
    "4. part 4 - Full Financial Report. It contains detailed information on spendings and earnings.\n",
    "\n",
    "With the help of NLP, we can extract useful information that can be used for trading.\n",
    "In India, Ministry of corportate affairs is the website from where we can access reports of companies."
   ]
  },
  {
   "cell_type": "markdown",
   "metadata": {},
   "source": [
    "# Regex\n",
    "\n",
    "Regular Expressions or Regex allows user to search for patterns of text in text files in a fast and automated manner.\n",
    "\n",
    "It is generally based on patterns of the data. We first specify rules for the set of possible patterns that we want to find. We can then make queries according to the data we are interested in.\n",
    "\n",
    "We need regular expressions when we want to search for patterns of what we are looking for instead of any specific sequence. They allow for pattern searching in a text document. \n",
    "\n",
    "They allow a user to search for strings using almost any sort of rule they can come up with. For example, finding all capital letters in a string, or finding a phone number in a document. \n",
    "\n",
    "Every character type has a corresponding pattern code. For example - digits have the placeholder pattern code of \\d. \n",
    "\n",
    "Use of \\ allows python to understand that it is a special code and not the letter'd'."
   ]
  },
  {
   "cell_type": "markdown",
   "metadata": {},
   "source": [
    "# Raw Strings\n",
    "In python string literals are specified using single quotes(') or double quotes(\") and the backslash(\\) character is used to escape characters that have a special meaning, such as a newline(\\n) or tab(\\t). Example:"
   ]
  },
  {
   "cell_type": "code",
   "execution_count": 1,
   "metadata": {},
   "outputs": [
    {
     "name": "stdout",
     "output_type": "stream",
     "text": [
      "Hello\n",
      "\tWorld\n"
     ]
    }
   ],
   "source": [
    "print('Hello\\n\\tWorld')"
   ]
  },
  {
   "cell_type": "markdown",
   "metadata": {},
   "source": [
    "If we want the print() function to interpret strings literally, which means we don't want the characters prefaced by backslash (\\) to be interpreted as special characters. In these cases, we can prefix the string literal with the letter r. Such strings are known as ***raw strings*** and treats backslashes(\\) as literal characters. Example:"
   ]
  },
  {
   "cell_type": "code",
   "execution_count": 2,
   "metadata": {},
   "outputs": [
    {
     "name": "stdout",
     "output_type": "stream",
     "text": [
      "Hello\\n\\tWorld\n"
     ]
    }
   ],
   "source": [
    "print(r'Hello\\n\\tWorld')"
   ]
  },
  {
   "cell_type": "markdown",
   "metadata": {},
   "source": [
    "By using raw strings we avoid the problem of python interpreting the special characters in regex's the wrong way.\n",
    "\n",
    "Adding an r before the first quote of the string literal, both \\n and \\t, are no longer treated as special characters. It's important to note that r doesn't change the type of the string literal, it just changes how the string literal is interpreted. So without the r, backslashes are used to escape characters and with the r, backslashes are treated as literal characters."
   ]
  },
  {
   "cell_type": "markdown",
   "metadata": {},
   "source": [
    "# Finding words using Regexes\n",
    "\n",
    "We will find letters and words in a string using regular expressions. We will use re module from python's standard library to work with regular expressions. The re module not only contains functions that allow us to check if a given regular expression matches a particular string, but also contains functions that allow us to modify strings in various ways.\n",
    "\n",
    "We will use a regular expression to find all the locations of the letter a in a short piece of text. To do this, we will use the compile() function from the re module. The re.compile(pattern) function converts a regular expression pattern into a regular expression object. This allows us to save our regular expressions into objects that can later be used to perform pattern matching using various methods, such as .match(), .search(),.findall() and .finditer()\n",
    "\n",
    "In this example, our regular expression pattern is 'a' and we will pass it to the re.compile() function as raw thing. We then will use the .finditer() method to search the sample_text for the given regular expression contained in the regex object. The .finditer() method returns an iterator yielding MatchObject instances over all non-overlapping matches for the regular expression pattern in the string. The string is scanned from left-to-right, and matches are returned in the order found because the .finditer() method always returns an iterator, we can loop through it to print all the matches."
   ]
  },
  {
   "cell_type": "markdown",
   "metadata": {},
   "source": [
    "# Searching for Basic Pattern"
   ]
  },
  {
   "cell_type": "code",
   "execution_count": 39,
   "metadata": {},
   "outputs": [
    {
     "data": {
      "text/plain": [
       "True"
      ]
     },
     "execution_count": 39,
     "metadata": {},
     "output_type": "execute_result"
    }
   ],
   "source": [
    "text = \"The agent's phone number is 408-555-1234. Call soon!\"\n",
    "'phone' in text # We are searching for string 'phone' in the text given above"
   ]
  },
  {
   "cell_type": "code",
   "execution_count": 41,
   "metadata": {},
   "outputs": [
    {
     "data": {
      "text/plain": [
       "<re.Match object; span=(12, 17), match='phone'>"
      ]
     },
     "execution_count": 41,
     "metadata": {},
     "output_type": "execute_result"
    }
   ],
   "source": [
    "pattern = 'phone' \n",
    "re.search(pattern,text) # We are looking for the pattern in text and both of them we have defined above"
   ]
  },
  {
   "cell_type": "code",
   "execution_count": 43,
   "metadata": {},
   "outputs": [],
   "source": [
    "pattern = \"NOT IN TEXT\"\n",
    "re.search(pattern,text) # Since in this case the pattern is not present in text, so it will not return anything"
   ]
  },
  {
   "cell_type": "code",
   "execution_count": 44,
   "metadata": {},
   "outputs": [
    {
     "data": {
      "text/plain": [
       "<re.Match object; span=(12, 17), match='phone'>"
      ]
     },
     "execution_count": 44,
     "metadata": {},
     "output_type": "execute_result"
    }
   ],
   "source": [
    "pattern = 'phone'\n",
    "match = re.search(pattern,text)\n",
    "match"
   ]
  },
  {
   "cell_type": "code",
   "execution_count": 45,
   "metadata": {},
   "outputs": [
    {
     "data": {
      "text/plain": [
       "(12, 17)"
      ]
     },
     "execution_count": 45,
     "metadata": {},
     "output_type": "execute_result"
    }
   ],
   "source": [
    "match.span()"
   ]
  },
  {
   "cell_type": "code",
   "execution_count": 46,
   "metadata": {},
   "outputs": [
    {
     "data": {
      "text/plain": [
       "12"
      ]
     },
     "execution_count": 46,
     "metadata": {},
     "output_type": "execute_result"
    }
   ],
   "source": [
    "match.start()"
   ]
  },
  {
   "cell_type": "code",
   "execution_count": 47,
   "metadata": {},
   "outputs": [
    {
     "data": {
      "text/plain": [
       "17"
      ]
     },
     "execution_count": 47,
     "metadata": {},
     "output_type": "execute_result"
    }
   ],
   "source": [
    "match.end()"
   ]
  },
  {
   "cell_type": "code",
   "execution_count": 50,
   "metadata": {},
   "outputs": [
    {
     "data": {
      "text/plain": [
       "(3, 8)"
      ]
     },
     "execution_count": 50,
     "metadata": {},
     "output_type": "execute_result"
    }
   ],
   "source": [
    "text = \"my phone is a new phone\"\n",
    "match = re.search(\"phone\",text)\n",
    "match.span() # only the first instance is matched. To find the list of all matches, we need to use .findall() matches."
   ]
  },
  {
   "cell_type": "code",
   "execution_count": 51,
   "metadata": {},
   "outputs": [
    {
     "data": {
      "text/plain": [
       "['phone', 'phone']"
      ]
     },
     "execution_count": 51,
     "metadata": {},
     "output_type": "execute_result"
    }
   ],
   "source": [
    "matches = re.findall(\"phone\",text)\n",
    "matches"
   ]
  },
  {
   "cell_type": "code",
   "execution_count": 52,
   "metadata": {},
   "outputs": [
    {
     "name": "stdout",
     "output_type": "stream",
     "text": [
      "(3, 8)\n",
      "(18, 23)\n"
     ]
    }
   ],
   "source": [
    "# To get actual math objects, we will use finditer()\n",
    "for match in re.finditer(\"phone\",text):\n",
    "    print(match.span())"
   ]
  },
  {
   "cell_type": "code",
   "execution_count": 3,
   "metadata": {},
   "outputs": [
    {
     "name": "stdout",
     "output_type": "stream",
     "text": [
      "<re.Match object; span=(1, 2), match='a'>\n",
      "<re.Match object; span=(9, 10), match='a'>\n",
      "<re.Match object; span=(14, 15), match='a'>\n"
     ]
    }
   ],
   "source": [
    "import re\n",
    "sample_text = 'Harshit Jain has written this text. He is A good boy!'\n",
    "regex = re.compile(r'a') # Will convert raw string 'a' into a regular expression object.\n",
    "matches  = regex.finditer(sample_text) # Searching for regular expression object in the sample_text.\n",
    "for match in matches:\n",
    "    print(match)"
   ]
  },
  {
   "cell_type": "code",
   "execution_count": 4,
   "metadata": {},
   "outputs": [
    {
     "name": "stdout",
     "output_type": "stream",
     "text": [
      "a\n"
     ]
    }
   ],
   "source": [
    "print(sample_text[1:2])"
   ]
  },
  {
   "cell_type": "markdown",
   "metadata": {},
   "source": [
    "The re does not return A as the character since it is case sensitive. So in order to make sure re identifies the upper case character, we will do the following:"
   ]
  },
  {
   "cell_type": "code",
   "execution_count": 5,
   "metadata": {},
   "outputs": [
    {
     "name": "stdout",
     "output_type": "stream",
     "text": [
      "<re.Match object; span=(42, 43), match='A'>\n"
     ]
    }
   ],
   "source": [
    "sample_text = 'Harshit Jain has written this text. He is A good boy!'\n",
    "regex = re.compile(r'A') # Will convert raw string 'a' into a regular expression object.\n",
    "matches  = regex.finditer(sample_text) # Searching for regular expression object in the sample_text.\n",
    "for match in matches:\n",
    "    print(match)"
   ]
  },
  {
   "cell_type": "code",
   "execution_count": 6,
   "metadata": {},
   "outputs": [
    {
     "name": "stdout",
     "output_type": "stream",
     "text": [
      "<re.Match object; span=(0, 7), match='Harshit'>\n",
      "\n",
      " Match from the original text: Harshit\n"
     ]
    }
   ],
   "source": [
    "sample_text = 'Harshit Jain has written this text. He is A good boy!'\n",
    "regex = re.compile(r'Harshit') # Will convert raw string 'Harshit' into a regular expression object.\n",
    "matches  = regex.finditer(sample_text) # Searching for regular expression object in the sample_text.\n",
    "for match in matches:\n",
    "    print(match)\n",
    "    print('\\n Match from the original text:', sample_text[match.span()[0]:match.span()[1]])"
   ]
  },
  {
   "cell_type": "markdown",
   "metadata": {},
   "source": [
    "One thing we need to make sure is that when we are searching for any word, the order of characters should remain the same. Otherwise, the algorithm will not be able to find. For instance - If boy is written as ybo, then the algorithm will fail to identify and locate since the sequence of words is not arranged in the form ybo, they are arranged in the form boy."
   ]
  },
  {
   "cell_type": "markdown",
   "metadata": {},
   "source": [
    "# Finding Metacharacters\n",
    "\n",
    "They are special characters which are used to give special instructions and cannot be searched for directly. The metacharacters we will be using in the regular expressions:\n",
    "\n",
    ".  ^  $  *  +  ?  { }  [ ]  \\  |  ( )\n",
    "\n",
    "If we want to search for them literally in strings, we need to escape them first. Just like in python literals, we can use backslash(\\) to escape all the metacharacters, in order to match them with patterns.\n"
   ]
  },
  {
   "cell_type": "markdown",
   "metadata": {},
   "source": [
    "# Matching a Period(.)\n",
    "\n",
    "We will be using a regular expression to find the period(.) at the end of sample_text string."
   ]
  },
  {
   "cell_type": "code",
   "execution_count": 7,
   "metadata": {},
   "outputs": [
    {
     "name": "stdout",
     "output_type": "stream",
     "text": [
      "<re.Match object; span=(34, 35), match='.'>\n"
     ]
    }
   ],
   "source": [
    "sample_text = 'Harshit Jain has written this text. He is A good boy!'\n",
    "regex = re.compile(r'\\.')\n",
    "matches = regex.finditer(sample_text)\n",
    "for match in matches :\n",
    "    print(match)"
   ]
  },
  {
   "cell_type": "markdown",
   "metadata": {},
   "source": [
    "# Searching for simple patterns\n",
    "\n",
    "Being able to match letters and metacharacters is the simplest task that regular expressions can do. We will use regular expressions to perform more complex pattern matching. We can form any pattern we want by using the metacharacters.\n",
    "\n",
    "Backslash(\\) is generally used to escape all the metacharacters so that we can still match them in patterns. However, the backslash can also be followed by various characters to signal various special sequences. Here is the list:\n",
    "    \n",
    "    \\d - Matches any decimal point; this is equivalent to the set [0-9]\n",
    "    \\D - Matches any non-digit character; this is equivalent to the set [^0-9]\n",
    "    \\s - Matches any whitespace character; this is equivalent to the set [\\t\\n\\r\\f\\v]\n",
    "    \\S - Matches any non-whitespace character; this is equivalent to the set [^\\t\\n\\r\\f\\v]\n",
    "    \\w - Matches any alphanumeric character and underscore; this is equivalent to the set [a-zA-Z0-9_]\n",
    "    \\W - Matches any non-alphanumeric character; this is equivalent to the set [\\a-zA-Z0-9_]\n",
    "        \n",
    "There is a difference between lowercase and uppercase sequences. For example \\d matches any digit, \\D matches everytthing that is not a digit. Similarly, \\s marches any whitespace character, \\S matches any non-whitespace character. "
   ]
  },
  {
   "cell_type": "markdown",
   "metadata": {},
   "source": [
    "# Numbers matching \\d"
   ]
  },
  {
   "cell_type": "code",
   "execution_count": 8,
   "metadata": {},
   "outputs": [
    {
     "name": "stdout",
     "output_type": "stream",
     "text": [
      "<re.Match object; span=(97, 98), match='1'>\n",
      "<re.Match object; span=(98, 99), match='2'>\n",
      "<re.Match object; span=(99, 100), match='3'>\n",
      "<re.Match object; span=(100, 101), match='4'>\n"
     ]
    }
   ],
   "source": [
    "sample_text = 'Harshit Jain is a good boy. He has the will and the strength to accomplish whatever he wants to. 1234'\n",
    "regex = re.compile(r'\\d')\n",
    "matches = regex.finditer(sample_text)\n",
    "for match in matches :\n",
    "    print(match)"
   ]
  },
  {
   "cell_type": "code",
   "execution_count": 9,
   "metadata": {},
   "outputs": [
    {
     "name": "stdout",
     "output_type": "stream",
     "text": [
      "<re.Match object; span=(0, 1), match='H'>\n",
      "<re.Match object; span=(1, 2), match='a'>\n",
      "<re.Match object; span=(2, 3), match='r'>\n",
      "<re.Match object; span=(3, 4), match='s'>\n",
      "<re.Match object; span=(4, 5), match='h'>\n",
      "<re.Match object; span=(5, 6), match='i'>\n",
      "<re.Match object; span=(6, 7), match='t'>\n",
      "<re.Match object; span=(7, 8), match=' '>\n",
      "<re.Match object; span=(8, 9), match='J'>\n",
      "<re.Match object; span=(9, 10), match='a'>\n",
      "<re.Match object; span=(10, 11), match='i'>\n",
      "<re.Match object; span=(11, 12), match='n'>\n",
      "<re.Match object; span=(12, 13), match=' '>\n",
      "<re.Match object; span=(13, 14), match='i'>\n",
      "<re.Match object; span=(14, 15), match='s'>\n",
      "<re.Match object; span=(15, 16), match=' '>\n",
      "<re.Match object; span=(16, 17), match='a'>\n",
      "<re.Match object; span=(17, 18), match=' '>\n",
      "<re.Match object; span=(18, 19), match='g'>\n",
      "<re.Match object; span=(19, 20), match='o'>\n",
      "<re.Match object; span=(20, 21), match='o'>\n",
      "<re.Match object; span=(21, 22), match='d'>\n",
      "<re.Match object; span=(22, 23), match=' '>\n",
      "<re.Match object; span=(23, 24), match='b'>\n",
      "<re.Match object; span=(24, 25), match='o'>\n",
      "<re.Match object; span=(25, 26), match='y'>\n",
      "<re.Match object; span=(26, 27), match='.'>\n",
      "<re.Match object; span=(27, 28), match=' '>\n",
      "<re.Match object; span=(28, 29), match='H'>\n",
      "<re.Match object; span=(29, 30), match='e'>\n",
      "<re.Match object; span=(30, 31), match=' '>\n",
      "<re.Match object; span=(31, 32), match='h'>\n",
      "<re.Match object; span=(32, 33), match='a'>\n",
      "<re.Match object; span=(33, 34), match='s'>\n",
      "<re.Match object; span=(34, 35), match=' '>\n",
      "<re.Match object; span=(35, 36), match='t'>\n",
      "<re.Match object; span=(36, 37), match='h'>\n",
      "<re.Match object; span=(37, 38), match='e'>\n",
      "<re.Match object; span=(38, 39), match=' '>\n",
      "<re.Match object; span=(39, 40), match='w'>\n",
      "<re.Match object; span=(40, 41), match='i'>\n",
      "<re.Match object; span=(41, 42), match='l'>\n",
      "<re.Match object; span=(42, 43), match='l'>\n",
      "<re.Match object; span=(43, 44), match=' '>\n",
      "<re.Match object; span=(44, 45), match='a'>\n",
      "<re.Match object; span=(45, 46), match='n'>\n",
      "<re.Match object; span=(46, 47), match='d'>\n",
      "<re.Match object; span=(47, 48), match=' '>\n",
      "<re.Match object; span=(48, 49), match='t'>\n",
      "<re.Match object; span=(49, 50), match='h'>\n",
      "<re.Match object; span=(50, 51), match='e'>\n",
      "<re.Match object; span=(51, 52), match=' '>\n",
      "<re.Match object; span=(52, 53), match='s'>\n",
      "<re.Match object; span=(53, 54), match='t'>\n",
      "<re.Match object; span=(54, 55), match='r'>\n",
      "<re.Match object; span=(55, 56), match='e'>\n",
      "<re.Match object; span=(56, 57), match='n'>\n",
      "<re.Match object; span=(57, 58), match='g'>\n",
      "<re.Match object; span=(58, 59), match='t'>\n",
      "<re.Match object; span=(59, 60), match='h'>\n",
      "<re.Match object; span=(60, 61), match=' '>\n",
      "<re.Match object; span=(61, 62), match='t'>\n",
      "<re.Match object; span=(62, 63), match='o'>\n",
      "<re.Match object; span=(63, 64), match=' '>\n",
      "<re.Match object; span=(64, 65), match='a'>\n",
      "<re.Match object; span=(65, 66), match='c'>\n",
      "<re.Match object; span=(66, 67), match='c'>\n",
      "<re.Match object; span=(67, 68), match='o'>\n",
      "<re.Match object; span=(68, 69), match='m'>\n",
      "<re.Match object; span=(69, 70), match='p'>\n",
      "<re.Match object; span=(70, 71), match='l'>\n",
      "<re.Match object; span=(71, 72), match='i'>\n",
      "<re.Match object; span=(72, 73), match='s'>\n",
      "<re.Match object; span=(73, 74), match='h'>\n",
      "<re.Match object; span=(74, 75), match=' '>\n",
      "<re.Match object; span=(75, 76), match='w'>\n",
      "<re.Match object; span=(76, 77), match='h'>\n",
      "<re.Match object; span=(77, 78), match='a'>\n",
      "<re.Match object; span=(78, 79), match='t'>\n",
      "<re.Match object; span=(79, 80), match='e'>\n",
      "<re.Match object; span=(80, 81), match='v'>\n",
      "<re.Match object; span=(81, 82), match='e'>\n",
      "<re.Match object; span=(82, 83), match='r'>\n",
      "<re.Match object; span=(83, 84), match=' '>\n",
      "<re.Match object; span=(84, 85), match='h'>\n",
      "<re.Match object; span=(85, 86), match='e'>\n",
      "<re.Match object; span=(86, 87), match=' '>\n",
      "<re.Match object; span=(87, 88), match='w'>\n",
      "<re.Match object; span=(88, 89), match='a'>\n",
      "<re.Match object; span=(89, 90), match='n'>\n",
      "<re.Match object; span=(90, 91), match='t'>\n",
      "<re.Match object; span=(91, 92), match='s'>\n",
      "<re.Match object; span=(92, 93), match=' '>\n",
      "<re.Match object; span=(93, 94), match='t'>\n",
      "<re.Match object; span=(94, 95), match='o'>\n",
      "<re.Match object; span=(95, 96), match='.'>\n",
      "<re.Match object; span=(96, 97), match=' '>\n"
     ]
    }
   ],
   "source": [
    "sample_text = 'Harshit Jain is a good boy. He has the will and the strength to accomplish whatever he wants to. 1234'\n",
    "regex = re.compile(r'\\D')\n",
    "matches = regex.finditer(sample_text)\n",
    "for match in matches :\n",
    "    print(match)"
   ]
  },
  {
   "cell_type": "markdown",
   "metadata": {},
   "source": [
    "# Matching whitespace characters using \\s\n",
    "For using a string literal that spans across multiple lines, we will use triple quotes ''''''. \n",
    "\n",
    "Below in the example ,\n",
    "\\t - new tab\n",
    "\n",
    "\\n- new line\n",
    "\n",
    "\\r - Carriage returns\n",
    "\n",
    "\\f - Form feeds\n",
    "\n",
    "\\v- vertical tabs\n",
    "\n",
    "formfeeds will appear as \\x0c and vertical tabs as \\x0b"
   ]
  },
  {
   "cell_type": "code",
   "execution_count": 10,
   "metadata": {},
   "outputs": [
    {
     "name": "stdout",
     "output_type": "stream",
     "text": [
      "<re.Match object; span=(5, 6), match='\\x0c'>\n",
      "<re.Match object; span=(6, 7), match='\\n'>\n",
      "<re.Match object; span=(7, 8), match='\\t'>\n",
      "<re.Match object; span=(12, 13), match=' '>\n",
      "<re.Match object; span=(15, 16), match=' '>\n",
      "<re.Match object; span=(17, 18), match=' '>\n",
      "<re.Match object; span=(24, 25), match=' '>\n",
      "<re.Match object; span=(29, 30), match=' '>\n",
      "<re.Match object; span=(37, 38), match=' '>\n",
      "<re.Match object; span=(40, 41), match=' '>\n",
      "<re.Match object; span=(43, 44), match='\\n'>\n",
      "<re.Match object; span=(44, 45), match='\\n'>\n",
      "<re.Match object; span=(45, 46), match='\\r'>\n",
      "<re.Match object; span=(46, 47), match=' '>\n",
      "<re.Match object; span=(50, 51), match=' '>\n",
      "<re.Match object; span=(58, 59), match=' '>\n",
      "<re.Match object; span=(66, 67), match='\\x0b'>\n",
      "<re.Match object; span=(67, 68), match=' '>\n"
     ]
    }
   ],
   "source": [
    "sample_text = '''Hello\\f\n",
    "\\tthis is a random text created by me\\n\n",
    "\\r for testing purpose\\v .'''\n",
    "regex = re.compile(r'\\s')\n",
    "m = regex.finditer(sample_text)\n",
    "for match in m:\n",
    "    print(match)"
   ]
  },
  {
   "cell_type": "code",
   "execution_count": 11,
   "metadata": {},
   "outputs": [
    {
     "name": "stdout",
     "output_type": "stream",
     "text": [
      "<re.Match object; span=(0, 1), match='H'>\n",
      "<re.Match object; span=(1, 2), match='e'>\n",
      "<re.Match object; span=(2, 3), match='l'>\n",
      "<re.Match object; span=(3, 4), match='l'>\n",
      "<re.Match object; span=(4, 5), match='o'>\n",
      "<re.Match object; span=(8, 9), match='t'>\n",
      "<re.Match object; span=(9, 10), match='h'>\n",
      "<re.Match object; span=(10, 11), match='i'>\n",
      "<re.Match object; span=(11, 12), match='s'>\n",
      "<re.Match object; span=(13, 14), match='i'>\n",
      "<re.Match object; span=(14, 15), match='s'>\n",
      "<re.Match object; span=(16, 17), match='a'>\n",
      "<re.Match object; span=(18, 19), match='r'>\n",
      "<re.Match object; span=(19, 20), match='a'>\n",
      "<re.Match object; span=(20, 21), match='n'>\n",
      "<re.Match object; span=(21, 22), match='d'>\n",
      "<re.Match object; span=(22, 23), match='o'>\n",
      "<re.Match object; span=(23, 24), match='m'>\n",
      "<re.Match object; span=(25, 26), match='t'>\n",
      "<re.Match object; span=(26, 27), match='e'>\n",
      "<re.Match object; span=(27, 28), match='x'>\n",
      "<re.Match object; span=(28, 29), match='t'>\n",
      "<re.Match object; span=(30, 31), match='c'>\n",
      "<re.Match object; span=(31, 32), match='r'>\n",
      "<re.Match object; span=(32, 33), match='e'>\n",
      "<re.Match object; span=(33, 34), match='a'>\n",
      "<re.Match object; span=(34, 35), match='t'>\n",
      "<re.Match object; span=(35, 36), match='e'>\n",
      "<re.Match object; span=(36, 37), match='d'>\n",
      "<re.Match object; span=(38, 39), match='b'>\n",
      "<re.Match object; span=(39, 40), match='y'>\n",
      "<re.Match object; span=(41, 42), match='m'>\n",
      "<re.Match object; span=(42, 43), match='e'>\n",
      "<re.Match object; span=(47, 48), match='f'>\n",
      "<re.Match object; span=(48, 49), match='o'>\n",
      "<re.Match object; span=(49, 50), match='r'>\n",
      "<re.Match object; span=(51, 52), match='t'>\n",
      "<re.Match object; span=(52, 53), match='e'>\n",
      "<re.Match object; span=(53, 54), match='s'>\n",
      "<re.Match object; span=(54, 55), match='t'>\n",
      "<re.Match object; span=(55, 56), match='i'>\n",
      "<re.Match object; span=(56, 57), match='n'>\n",
      "<re.Match object; span=(57, 58), match='g'>\n",
      "<re.Match object; span=(59, 60), match='p'>\n",
      "<re.Match object; span=(60, 61), match='u'>\n",
      "<re.Match object; span=(61, 62), match='r'>\n",
      "<re.Match object; span=(62, 63), match='p'>\n",
      "<re.Match object; span=(63, 64), match='o'>\n",
      "<re.Match object; span=(64, 65), match='s'>\n",
      "<re.Match object; span=(65, 66), match='e'>\n",
      "<re.Match object; span=(68, 69), match='.'>\n"
     ]
    }
   ],
   "source": [
    "# Characters that are not whitespaced\n",
    "sample_text = '''Hello\\f\n",
    "\\tthis is a random text created by me\\n\n",
    "\\r for testing purpose\\v .'''\n",
    "regex = re.compile(r'\\S')\n",
    "m = regex.finditer(sample_text)\n",
    "for match in m:\n",
    "    print(match)"
   ]
  },
  {
   "cell_type": "markdown",
   "metadata": {},
   "source": [
    "# Matching alphanumeric characters with \\w\n",
    "\n",
    "Includes underscore(_), all the numbers from 0 to 9, and all the uppercase and lowercase letters."
   ]
  },
  {
   "cell_type": "code",
   "execution_count": 12,
   "metadata": {},
   "outputs": [
    {
     "name": "stdout",
     "output_type": "stream",
     "text": [
      "<re.Match object; span=(0, 1), match='Y'>\n",
      "<re.Match object; span=(1, 2), match='o'>\n",
      "<re.Match object; span=(2, 3), match='u'>\n",
      "<re.Match object; span=(4, 5), match='c'>\n",
      "<re.Match object; span=(5, 6), match='a'>\n",
      "<re.Match object; span=(6, 7), match='n'>\n",
      "<re.Match object; span=(8, 9), match='c'>\n",
      "<re.Match object; span=(9, 10), match='o'>\n",
      "<re.Match object; span=(10, 11), match='n'>\n",
      "<re.Match object; span=(11, 12), match='t'>\n",
      "<re.Match object; span=(12, 13), match='a'>\n",
      "<re.Match object; span=(13, 14), match='c'>\n",
      "<re.Match object; span=(14, 15), match='t'>\n",
      "<re.Match object; span=(16, 17), match='t'>\n",
      "<re.Match object; span=(17, 18), match='h'>\n",
      "<re.Match object; span=(18, 19), match='i'>\n",
      "<re.Match object; span=(19, 20), match='s'>\n",
      "<re.Match object; span=(21, 22), match='c'>\n",
      "<re.Match object; span=(22, 23), match='o'>\n",
      "<re.Match object; span=(23, 24), match='m'>\n",
      "<re.Match object; span=(24, 25), match='p'>\n",
      "<re.Match object; span=(25, 26), match='a'>\n",
      "<re.Match object; span=(26, 27), match='n'>\n",
      "<re.Match object; span=(27, 28), match='y'>\n",
      "<re.Match object; span=(29, 30), match='r'>\n",
      "<re.Match object; span=(30, 31), match='i'>\n",
      "<re.Match object; span=(31, 32), match='g'>\n",
      "<re.Match object; span=(32, 33), match='h'>\n",
      "<re.Match object; span=(33, 34), match='t'>\n",
      "<re.Match object; span=(35, 36), match='n'>\n",
      "<re.Match object; span=(36, 37), match='o'>\n",
      "<re.Match object; span=(37, 38), match='w'>\n",
      "<re.Match object; span=(39, 40), match='i'>\n",
      "<re.Match object; span=(40, 41), match='f'>\n",
      "<re.Match object; span=(42, 43), match='y'>\n",
      "<re.Match object; span=(43, 44), match='o'>\n",
      "<re.Match object; span=(44, 45), match='u'>\n",
      "<re.Match object; span=(46, 47), match='t'>\n",
      "<re.Match object; span=(47, 48), match='o'>\n",
      "<re.Match object; span=(48, 49), match='o'>\n",
      "<re.Match object; span=(50, 51), match='d'>\n",
      "<re.Match object; span=(51, 52), match='r'>\n",
      "<re.Match object; span=(52, 53), match='e'>\n",
      "<re.Match object; span=(53, 54), match='a'>\n",
      "<re.Match object; span=(54, 55), match='m'>\n",
      "<re.Match object; span=(56, 57), match='a'>\n",
      "<re.Match object; span=(57, 58), match='b'>\n",
      "<re.Match object; span=(58, 59), match='o'>\n",
      "<re.Match object; span=(59, 60), match='u'>\n",
      "<re.Match object; span=(60, 61), match='t'>\n",
      "<re.Match object; span=(62, 63), match='f'>\n",
      "<re.Match object; span=(63, 64), match='u'>\n",
      "<re.Match object; span=(64, 65), match='t'>\n",
      "<re.Match object; span=(65, 66), match='u'>\n",
      "<re.Match object; span=(66, 67), match='r'>\n",
      "<re.Match object; span=(67, 68), match='e'>\n",
      "<re.Match object; span=(69, 70), match='o'>\n",
      "<re.Match object; span=(70, 71), match='f'>\n",
      "<re.Match object; span=(72, 73), match='A'>\n",
      "<re.Match object; span=(73, 74), match='I'>\n",
      "<re.Match object; span=(77, 78), match='D'>\n",
      "<re.Match object; span=(78, 79), match='r'>\n",
      "<re.Match object; span=(79, 80), match='e'>\n",
      "<re.Match object; span=(80, 81), match='a'>\n",
      "<re.Match object; span=(81, 82), match='m'>\n",
      "<re.Match object; span=(83, 84), match='b'>\n",
      "<re.Match object; span=(84, 85), match='i'>\n",
      "<re.Match object; span=(85, 86), match='g'>\n",
      "<re.Match object; span=(87, 88), match='a'>\n",
      "<re.Match object; span=(88, 89), match='n'>\n",
      "<re.Match object; span=(89, 90), match='d'>\n",
      "<re.Match object; span=(91, 92), match='h'>\n",
      "<re.Match object; span=(92, 93), match='u'>\n",
      "<re.Match object; span=(93, 94), match='s'>\n",
      "<re.Match object; span=(94, 95), match='t'>\n",
      "<re.Match object; span=(95, 96), match='l'>\n",
      "<re.Match object; span=(96, 97), match='e'>\n",
      "<re.Match object; span=(98, 99), match='f'>\n",
      "<re.Match object; span=(99, 100), match='o'>\n",
      "<re.Match object; span=(100, 101), match='r'>\n",
      "<re.Match object; span=(102, 103), match='i'>\n",
      "<re.Match object; span=(103, 104), match='t'>\n",
      "<re.Match object; span=(106, 107), match='C'>\n",
      "<re.Match object; span=(107, 108), match='o'>\n",
      "<re.Match object; span=(108, 109), match='n'>\n",
      "<re.Match object; span=(109, 110), match='t'>\n",
      "<re.Match object; span=(110, 111), match='a'>\n",
      "<re.Match object; span=(111, 112), match='c'>\n",
      "<re.Match object; span=(112, 113), match='t'>\n",
      "<re.Match object; span=(114, 115), match='a'>\n",
      "<re.Match object; span=(115, 116), match='t'>\n",
      "<re.Match object; span=(118, 119), match='h'>\n",
      "<re.Match object; span=(119, 120), match='a'>\n",
      "<re.Match object; span=(120, 121), match='r'>\n",
      "<re.Match object; span=(121, 122), match='s'>\n",
      "<re.Match object; span=(122, 123), match='h'>\n",
      "<re.Match object; span=(123, 124), match='i'>\n",
      "<re.Match object; span=(124, 125), match='t'>\n",
      "<re.Match object; span=(126, 127), match='m'>\n",
      "<re.Match object; span=(127, 128), match='d'>\n",
      "<re.Match object; span=(128, 129), match='_'>\n",
      "<re.Match object; span=(129, 130), match='A'>\n",
      "<re.Match object; span=(130, 131), match='I'>\n",
      "<re.Match object; span=(132, 133), match='c'>\n",
      "<re.Match object; span=(133, 134), match='o'>\n",
      "<re.Match object; span=(134, 135), match='m'>\n"
     ]
    }
   ],
   "source": [
    "sample_text = '''You can contact this company right now if you too dream about future of AI. \n",
    "Dream big and hustle for it! Contact at:\n",
    "harshit@md_AI.com'''\n",
    "regex = re.compile(r'\\w')\n",
    "matches = regex.finditer(sample_text)\n",
    "for match in matches:\n",
    "    print(match)"
   ]
  },
  {
   "cell_type": "code",
   "execution_count": 13,
   "metadata": {},
   "outputs": [
    {
     "name": "stdout",
     "output_type": "stream",
     "text": [
      "<re.Match object; span=(3, 4), match=' '>\n",
      "<re.Match object; span=(7, 8), match=' '>\n",
      "<re.Match object; span=(15, 16), match=' '>\n",
      "<re.Match object; span=(20, 21), match=' '>\n",
      "<re.Match object; span=(28, 29), match=' '>\n",
      "<re.Match object; span=(34, 35), match=' '>\n",
      "<re.Match object; span=(38, 39), match=' '>\n",
      "<re.Match object; span=(41, 42), match=' '>\n",
      "<re.Match object; span=(45, 46), match=' '>\n",
      "<re.Match object; span=(49, 50), match=' '>\n",
      "<re.Match object; span=(55, 56), match=' '>\n",
      "<re.Match object; span=(61, 62), match=' '>\n",
      "<re.Match object; span=(68, 69), match=' '>\n",
      "<re.Match object; span=(71, 72), match=' '>\n",
      "<re.Match object; span=(74, 75), match='.'>\n",
      "<re.Match object; span=(75, 76), match=' '>\n",
      "<re.Match object; span=(76, 77), match='\\n'>\n",
      "<re.Match object; span=(82, 83), match=' '>\n",
      "<re.Match object; span=(86, 87), match=' '>\n",
      "<re.Match object; span=(90, 91), match=' '>\n",
      "<re.Match object; span=(97, 98), match=' '>\n",
      "<re.Match object; span=(101, 102), match=' '>\n",
      "<re.Match object; span=(104, 105), match='!'>\n",
      "<re.Match object; span=(105, 106), match=' '>\n",
      "<re.Match object; span=(113, 114), match=' '>\n",
      "<re.Match object; span=(116, 117), match=':'>\n",
      "<re.Match object; span=(117, 118), match='\\n'>\n",
      "<re.Match object; span=(125, 126), match='@'>\n",
      "<re.Match object; span=(131, 132), match='.'>\n"
     ]
    }
   ],
   "source": [
    "# For non-alphanumeric characters we will be using \\W\n",
    "sample_text = '''You can contact this company right now if you too dream about future of AI. \n",
    "Dream big and hustle for it! Contact at:\n",
    "harshit@md_AI.com'''\n",
    "regex = re.compile(r'\\W')\n",
    "matches = regex.finditer(sample_text)\n",
    "for match in matches:\n",
    "    print(match)"
   ]
  },
  {
   "cell_type": "markdown",
   "metadata": {},
   "source": [
    "# Word Boundaries\n",
    "We have sentences that contains the word class in 3 different positions:\n",
    "    1. As a standalone word, class with whitespaces both before and after the word\n",
    "    2. At the beginning of the word, classroom with a whitespace before the word\n",
    "    3. At the end of the word, subclass, with a whitespace after the word.\n",
    "    \n",
    "If we use class as our regular expression, we will match the word class in all three positions."
   ]
  },
  {
   "cell_type": "code",
   "execution_count": 14,
   "metadata": {},
   "outputs": [
    {
     "name": "stdout",
     "output_type": "stream",
     "text": [
      "<re.Match object; span=(5, 10), match='class'>\n",
      "<re.Match object; span=(73, 78), match='class'>\n",
      "<re.Match object; span=(108, 113), match='class'>\n",
      "<re.Match object; span=(135, 140), match='class'>\n"
     ]
    }
   ],
   "source": [
    "sample_text = ' The class will be held in the first floor of the academic building, the classroom is just beside the lathe class which is inturn a subclass of the entire workshop'\n",
    "regex = re.compile(r'class')\n",
    "matches = regex.finditer(sample_text)\n",
    "for match in matches:\n",
    "    print(match)"
   ]
  },
  {
   "cell_type": "code",
   "execution_count": 15,
   "metadata": {},
   "outputs": [
    {
     "name": "stdout",
     "output_type": "stream",
     "text": [
      "<re.Match object; span=(5, 10), match='class'>\n",
      "<re.Match object; span=(73, 78), match='class'>\n",
      "<re.Match object; span=(108, 113), match='class'>\n"
     ]
    }
   ],
   "source": [
    "# We will use the \\b escape character now to run the same code as shown above\n",
    "sample_text = ' The class will be held in the first floor of the academic building, the classroom is just beside the lathe class which is inturn a subclass of the entire workshop'\n",
    "regex = re.compile(r'\\bclass')\n",
    "matches = regex.finditer(sample_text)\n",
    "for match in matches:\n",
    "    print(match)"
   ]
  },
  {
   "cell_type": "markdown",
   "metadata": {},
   "source": [
    "As we can see above the word subclass which was being identified when we did not use or add \\b before the word 'class'"
   ]
  },
  {
   "cell_type": "code",
   "execution_count": 16,
   "metadata": {},
   "outputs": [
    {
     "name": "stdout",
     "output_type": "stream",
     "text": [
      "<re.Match object; span=(5, 10), match='class'>\n",
      "<re.Match object; span=(108, 113), match='class'>\n",
      "<re.Match object; span=(135, 140), match='class'>\n"
     ]
    }
   ],
   "source": [
    "# We will add \\b after the word 'class'\n",
    "sample_text = ' The class will be held in the first floor of the academic building, the classroom is just beside the lathe class which is inturn a subclass of the entire workshop'\n",
    "regex = re.compile(r'class\\b')\n",
    "matches = regex.finditer(sample_text)\n",
    "for match in matches:\n",
    "    print(match)"
   ]
  },
  {
   "cell_type": "markdown",
   "metadata": {},
   "source": [
    "In this case however it is matching the standalone word class and the word class in subclass but it is not recognizing classroom."
   ]
  },
  {
   "cell_type": "code",
   "execution_count": 17,
   "metadata": {},
   "outputs": [
    {
     "name": "stdout",
     "output_type": "stream",
     "text": [
      "<re.Match object; span=(5, 10), match='class'>\n",
      "<re.Match object; span=(108, 113), match='class'>\n"
     ]
    }
   ],
   "source": [
    "# We will combine both of the above cases shown\n",
    "sample_text = ' The class will be held in the first floor of the academic building, the classroom is just beside the lathe class which is inturn a subclass of the entire workshop'\n",
    "regex = re.compile(r'\\bclass\\b')\n",
    "matches = regex.finditer(sample_text)\n",
    "for match in matches:\n",
    "    print(match)"
   ]
  },
  {
   "cell_type": "markdown",
   "metadata": {},
   "source": [
    "Now both the subclass and classroom are eliminated and only the standalone word class is identified."
   ]
  },
  {
   "cell_type": "markdown",
   "metadata": {},
   "source": [
    "# To find all 3 letter words in a regular expression"
   ]
  },
  {
   "cell_type": "code",
   "execution_count": 18,
   "metadata": {},
   "outputs": [
    {
     "name": "stdout",
     "output_type": "stream",
     "text": [
      "<re.Match object; span=(10, 13), match='the'>\n",
      "<re.Match object; span=(14, 17), match='car'>\n",
      "<re.Match object; span=(25, 28), match='saw'>\n",
      "<re.Match object; span=(40, 43), match='car'>\n",
      "<re.Match object; span=(44, 47), match='and'>\n",
      "<re.Match object; span=(86, 89), match='the'>\n",
      "<re.Match object; span=(90, 93), match='car'>\n",
      "<re.Match object; span=(103, 106), match='saw'>\n"
     ]
    }
   ],
   "source": [
    "import re\n",
    "sample_text = 'I went to the car store, saw a mercedec car and then came back because after visiting the car store, I saw my pockets'\n",
    "regex = re.compile(r'\\b\\w\\w\\w\\b')\n",
    "m = regex.finditer(sample_text)\n",
    "for match in m:\n",
    "    print(match)"
   ]
  },
  {
   "cell_type": "markdown",
   "metadata": {},
   "source": [
    "We also have uppercase versions of the lowercase constraints we added above:\n",
    "For example by using \\B. It completely does the opposite of \\b, only matching when the current position is not at a word boundary."
   ]
  },
  {
   "cell_type": "code",
   "execution_count": 19,
   "metadata": {},
   "outputs": [
    {
     "name": "stdout",
     "output_type": "stream",
     "text": [
      "<re.Match object; span=(135, 140), match='class'>\n"
     ]
    }
   ],
   "source": [
    "sample_text = ' The class will be held in the first floor of the academic building, the classroom is just beside the lathe class which is inturn a subclass of the entire workshop'\n",
    "regex = re.compile(r'\\Bclass')\n",
    "matches = regex.finditer(sample_text)\n",
    "for match in matches:\n",
    "    print(match)"
   ]
  },
  {
   "cell_type": "markdown",
   "metadata": {},
   "source": [
    "As we can see above it only returns subclass since it's the only one that does not have a boundary directly above it."
   ]
  },
  {
   "cell_type": "code",
   "execution_count": 20,
   "metadata": {},
   "outputs": [
    {
     "name": "stdout",
     "output_type": "stream",
     "text": [
      "<re.Match object; span=(73, 78), match='class'>\n"
     ]
    }
   ],
   "source": [
    "sample_text = ' The class will be held in the first floor of the academic building, the classroom is just beside the lathe class which is inturn a subclass of the entire workshop'\n",
    "regex = re.compile(r'class\\B')\n",
    "matches = regex.finditer(sample_text)\n",
    "for match in matches:\n",
    "    print(match)"
   ]
  },
  {
   "cell_type": "markdown",
   "metadata": {},
   "source": [
    "This one returns classroom since because it's the only one that doesn't have a boundary directly after it."
   ]
  },
  {
   "cell_type": "markdown",
   "metadata": {},
   "source": [
    "Now we will combine both the cases above which we have discussed for \\B."
   ]
  },
  {
   "cell_type": "code",
   "execution_count": 21,
   "metadata": {},
   "outputs": [],
   "source": [
    "sample_text = ' The class will be held in the first floor of the academic building, the classroom is just beside the lathe class which is inturn a subclass of the entire workshop'\n",
    "regex = re.compile(r'\\Bclass\\B')\n",
    "matches = regex.finditer(sample_text)\n",
    "for match in matches:\n",
    "    print(match)"
   ]
  },
  {
   "cell_type": "markdown",
   "metadata": {},
   "source": [
    "There are no results since there is no word which has boundary before and after the word class. If we can introduce a new word which has boundary before adn after the word class then it will work."
   ]
  },
  {
   "cell_type": "code",
   "execution_count": 22,
   "metadata": {},
   "outputs": [
    {
     "name": "stdout",
     "output_type": "stream",
     "text": [
      "<re.Match object; span=(6, 11), match='class'>\n"
     ]
    }
   ],
   "source": [
    "sample_text = ' helloclasshello'\n",
    "regex = re.compile(r'\\Bclass\\B')\n",
    "matches = regex.finditer(sample_text)\n",
    "for match in matches:\n",
    "    print(match)"
   ]
  },
  {
   "cell_type": "markdown",
   "metadata": {},
   "source": [
    "As told above, it is working since there is boundary before and after the word 'class ' i.e. the word which we have entered and inquiring about.\n"
   ]
  },
  {
   "cell_type": "markdown",
   "metadata": {},
   "source": [
    "# Quantifiers\n",
    "\n",
    "Now that we know the special character designations, we can use them along with quantifiers to define how many we expect.\n",
    "\n",
    "<table ><tr><th>Character</th><th>Description</th><th>Example Pattern Code</th><th >Exammple Match</th></tr>\n",
    "\n",
    "<tr ><td><span >+</span></td><td>Occurs one or more times</td><td>\tVersion \\w-\\w+</td><td>Version A-b1_1</td></tr>\n",
    "\n",
    "<tr ><td><span >{3}</span></td><td>Occurs exactly 3 times</td><td>\\D{3}</td><td>abc</td></tr>\n",
    "\n",
    "\n",
    "\n",
    "<tr ><td><span >{2,4}</span></td><td>Occurs 2 to 4 times</td><td>\\d{2,4}</td><td>123</td></tr>\n",
    "\n",
    "\n",
    "\n",
    "<tr ><td><span >{3,}</span></td><td>Occurs 3 or more</td><td>\\w{3,}</td><td>anycharacters</td></tr>\n",
    "\n",
    "<tr ><td><span >\\*</span></td><td>Occurs zero or more times</td><td>A\\*B\\*C*</td><td>AAACC</td></tr>\n",
    "\n",
    "<tr ><td><span >?</span></td><td>Once or none</td><td>plurals?</td><td>plural</td></tr></table>"
   ]
  },
  {
   "cell_type": "markdown",
   "metadata": {},
   "source": [
    "# Metacharacters\n",
    "First case of the dot(.). The dot will match with any character except a newline(\\n)."
   ]
  },
  {
   "cell_type": "code",
   "execution_count": 23,
   "metadata": {},
   "outputs": [
    {
     "name": "stdout",
     "output_type": "stream",
     "text": [
      "<re.Match object; span=(0, 1), match='H'>\n",
      "<re.Match object; span=(1, 2), match='e'>\n",
      "<re.Match object; span=(2, 3), match='l'>\n",
      "<re.Match object; span=(3, 4), match='l'>\n",
      "<re.Match object; span=(4, 5), match='o'>\n",
      "<re.Match object; span=(5, 6), match='\\x0c'>\n",
      "<re.Match object; span=(7, 8), match='\\t'>\n",
      "<re.Match object; span=(8, 9), match='t'>\n",
      "<re.Match object; span=(9, 10), match='h'>\n",
      "<re.Match object; span=(10, 11), match='i'>\n",
      "<re.Match object; span=(11, 12), match='s'>\n",
      "<re.Match object; span=(12, 13), match=' '>\n",
      "<re.Match object; span=(13, 14), match='i'>\n",
      "<re.Match object; span=(14, 15), match='s'>\n",
      "<re.Match object; span=(15, 16), match=' '>\n",
      "<re.Match object; span=(16, 17), match='a'>\n",
      "<re.Match object; span=(17, 18), match=' '>\n",
      "<re.Match object; span=(18, 19), match='r'>\n",
      "<re.Match object; span=(19, 20), match='a'>\n",
      "<re.Match object; span=(20, 21), match='n'>\n",
      "<re.Match object; span=(21, 22), match='d'>\n",
      "<re.Match object; span=(22, 23), match='o'>\n",
      "<re.Match object; span=(23, 24), match='m'>\n",
      "<re.Match object; span=(24, 25), match=' '>\n",
      "<re.Match object; span=(25, 26), match='t'>\n",
      "<re.Match object; span=(26, 27), match='e'>\n",
      "<re.Match object; span=(27, 28), match='x'>\n",
      "<re.Match object; span=(28, 29), match='t'>\n",
      "<re.Match object; span=(29, 30), match=' '>\n",
      "<re.Match object; span=(30, 31), match='c'>\n",
      "<re.Match object; span=(31, 32), match='r'>\n",
      "<re.Match object; span=(32, 33), match='e'>\n",
      "<re.Match object; span=(33, 34), match='a'>\n",
      "<re.Match object; span=(34, 35), match='t'>\n",
      "<re.Match object; span=(35, 36), match='e'>\n",
      "<re.Match object; span=(36, 37), match='d'>\n",
      "<re.Match object; span=(37, 38), match=' '>\n",
      "<re.Match object; span=(38, 39), match='b'>\n",
      "<re.Match object; span=(39, 40), match='y'>\n",
      "<re.Match object; span=(40, 41), match=' '>\n",
      "<re.Match object; span=(41, 42), match='m'>\n",
      "<re.Match object; span=(42, 43), match='e'>\n",
      "<re.Match object; span=(45, 46), match='\\r'>\n",
      "<re.Match object; span=(46, 47), match=' '>\n",
      "<re.Match object; span=(47, 48), match='f'>\n",
      "<re.Match object; span=(48, 49), match='o'>\n",
      "<re.Match object; span=(49, 50), match='r'>\n",
      "<re.Match object; span=(50, 51), match=' '>\n",
      "<re.Match object; span=(51, 52), match='t'>\n",
      "<re.Match object; span=(52, 53), match='e'>\n",
      "<re.Match object; span=(53, 54), match='s'>\n",
      "<re.Match object; span=(54, 55), match='t'>\n",
      "<re.Match object; span=(55, 56), match='i'>\n",
      "<re.Match object; span=(56, 57), match='n'>\n",
      "<re.Match object; span=(57, 58), match='g'>\n",
      "<re.Match object; span=(58, 59), match=' '>\n",
      "<re.Match object; span=(59, 60), match='p'>\n",
      "<re.Match object; span=(60, 61), match='u'>\n",
      "<re.Match object; span=(61, 62), match='r'>\n",
      "<re.Match object; span=(62, 63), match='p'>\n",
      "<re.Match object; span=(63, 64), match='o'>\n",
      "<re.Match object; span=(64, 65), match='s'>\n",
      "<re.Match object; span=(65, 66), match='e'>\n",
      "<re.Match object; span=(66, 67), match='\\x0b'>\n",
      "<re.Match object; span=(67, 68), match=' '>\n",
      "<re.Match object; span=(68, 69), match='.'>\n"
     ]
    }
   ],
   "source": [
    "sample_text = '''Hello\\f\n",
    "\\tthis is a random text created by me\\n\n",
    "\\r for testing purpose\\v .'''\n",
    "regex = re.compile(r'.')\n",
    "matches = regex.finditer(sample_text)\n",
    "for match in matches:\n",
    "    print(match)"
   ]
  },
  {
   "cell_type": "markdown",
   "metadata": {},
   "source": [
    "# The caret(^)\n",
    "This character matches the sequence of the characters when they are located at the beginning of the string."
   ]
  },
  {
   "cell_type": "code",
   "execution_count": 24,
   "metadata": {},
   "outputs": [
    {
     "name": "stdout",
     "output_type": "stream",
     "text": [
      "<re.Match object; span=(0, 4), match='this'>\n"
     ]
    }
   ],
   "source": [
    "sample_text = 'this watch belongs to this box'\n",
    "regex = re.compile(r'^this')\n",
    "matches = regex.finditer(sample_text)\n",
    "for match in matches:\n",
    "    print(match)"
   ]
  },
  {
   "cell_type": "markdown",
   "metadata": {},
   "source": [
    "As we can see above, only the first this is printed and not the second time since the second time it was not in the beginning of the string."
   ]
  },
  {
   "cell_type": "markdown",
   "metadata": {},
   "source": [
    "# The dollar sign($)\n",
    "\n",
    "The dollar sign matches a sequence of characters when they are located at the end of the string."
   ]
  },
  {
   "cell_type": "code",
   "execution_count": 25,
   "metadata": {},
   "outputs": [
    {
     "name": "stdout",
     "output_type": "stream",
     "text": [
      "<re.Match object; span=(36, 41), match='watch'>\n"
     ]
    }
   ],
   "source": [
    "sample_text = 'this watch is better than the other watch'\n",
    "regex = re.compile(r'watch$')\n",
    "matches = regex.finditer(sample_text)\n",
    "for match in matches:\n",
    "    print(match)"
   ]
  },
  {
   "cell_type": "markdown",
   "metadata": {},
   "source": [
    "# Character Sets\n",
    "\n",
    "# Finding phone numbers \n",
    "\n",
    "The below contains the code where a regular expression is created so that one can match phone numbers with a multi-level string so it mimics a phone book. By looking at a  multi-line string, it is observable that even though the phone numbers have different digits, they all have the same pattern, namely 3 digits followed by a single character, followed by 3 more digits, followed by a single character and finally followed by 4 digits. The dot operator and the special sequence \\d will be used as shown:"
   ]
  },
  {
   "cell_type": "code",
   "execution_count": 26,
   "metadata": {},
   "outputs": [
    {
     "name": "stdout",
     "output_type": "stream",
     "text": [
      "<re.Match object; span=(12, 24), match='555-333-1253'>\n",
      "<re.Match object; span=(36, 48), match='123-456-7891'>\n",
      "<re.Match object; span=(63, 75), match='111-111-1111'>\n",
      "<re.Match object; span=(89, 101), match='222-342-2144'>\n"
     ]
    }
   ],
   "source": [
    "import re\n",
    "sample_text = '''\n",
    "Mr. Amit = 555-333-1253\n",
    "Mr. John = 123-456-7891\n",
    "Mr. Harshit = 111-111-1111\n",
    "Mr. Random = 222-342-2144\n",
    "'''\n",
    "regex = re.compile(r'\\d\\d\\d.\\d\\d\\d.\\d\\d\\d\\d')\n",
    "matches = regex.finditer(sample_text)\n",
    "for match in matches:\n",
    "    print (match)"
   ]
  },
  {
   "cell_type": "markdown",
   "metadata": {},
   "source": [
    "Now we will look at another case where the phone numbers can be separated by either a space or dash. And still they will be identified."
   ]
  },
  {
   "cell_type": "code",
   "execution_count": 27,
   "metadata": {},
   "outputs": [
    {
     "name": "stdout",
     "output_type": "stream",
     "text": [
      "<re.Match object; span=(12, 24), match='555-333-1253'>\n",
      "<re.Match object; span=(36, 48), match='123-456-7891'>\n",
      "<re.Match object; span=(63, 75), match='111 111 1111'>\n"
     ]
    }
   ],
   "source": [
    "import re\n",
    "sample_text = '''\n",
    "Mr. Amit = 555-333-1253\n",
    "Mr. John = 123-456-7891\n",
    "Mr. Harshit = 111 111 1111\n",
    "Mr. Random = (222)342-2144\n",
    "'''\n",
    "regex = re.compile(r'\\d{3}[- ]\\d{3}[- ]\\d{4}')\n",
    "matches = regex.finditer(sample_text)\n",
    "for match in matches:\n",
    "    print (match)"
   ]
  },
  {
   "cell_type": "markdown",
   "metadata": {},
   "source": [
    "Suppose we want to only identify a specific set of phone numbers. We have specified only the phone numbers starting from either 5 or 2 or 1 and the 3rd digit should be 5. So we will use the following code:"
   ]
  },
  {
   "cell_type": "code",
   "execution_count": 28,
   "metadata": {},
   "outputs": [
    {
     "name": "stdout",
     "output_type": "stream",
     "text": [
      "<re.Match object; span=(13, 24), match='55-333-1253'>\n",
      "<re.Match object; span=(37, 48), match='25-456-7891'>\n"
     ]
    }
   ],
   "source": [
    "import re\n",
    "sample_text = '''\n",
    "Mr. Amit = 555-333-1253\n",
    "Mr. John = 125-456-7891\n",
    "Mr. Harshit = 111 111 1111\n",
    "Mr. Random = (222)342-2144\n",
    "'''\n",
    "regex = re.compile(r'[512]5[- ]\\d{3}[- ]\\d{4}')\n",
    "matches = regex.finditer(sample_text)\n",
    "for match in matches:\n",
    "    print (match)"
   ]
  },
  {
   "cell_type": "markdown",
   "metadata": {},
   "source": [
    "Now we will look at another example where we are only retrieving phone numbers that are either ending with digits lying between 1-3. No other constraint. Only there is constraint on the last digit."
   ]
  },
  {
   "cell_type": "code",
   "execution_count": 29,
   "metadata": {},
   "outputs": [
    {
     "name": "stdout",
     "output_type": "stream",
     "text": [
      "<re.Match object; span=(12, 24), match='555-333-1253'>\n",
      "<re.Match object; span=(36, 48), match='125-456-7891'>\n",
      "<re.Match object; span=(63, 75), match='111 111 1111'>\n"
     ]
    }
   ],
   "source": [
    "import re\n",
    "sample_text = '''\n",
    "Mr. Amit = 555-333-1253\n",
    "Mr. John = 125-456-7891\n",
    "Mr. Harshit = 111 111 1111\n",
    "Mr. Random = (222)342-2144\n",
    "'''\n",
    "regex = re.compile(r'\\d{3}.\\d{3}.\\d{3}[1-3]')\n",
    "matches = regex.finditer(sample_text)\n",
    "for match in matches:\n",
    "    print (match)"
   ]
  },
  {
   "cell_type": "markdown",
   "metadata": {},
   "source": [
    "Now we will just inverse whatever we did above and look for only the phone numbers where the last digit does not end with any number lying between 1-3. So it will look for numbers where the ending will take place by 4-9 and not 1-3. We will accomplish the same by using ^ operator."
   ]
  },
  {
   "cell_type": "code",
   "execution_count": 30,
   "metadata": {},
   "outputs": [
    {
     "name": "stdout",
     "output_type": "stream",
     "text": [
      "<re.Match object; span=(90, 102), match='222)342-2144'>\n"
     ]
    }
   ],
   "source": [
    "import re\n",
    "sample_text = '''\n",
    "Mr. Amit = 555-333-1253\n",
    "Mr. John = 125-456-7891\n",
    "Mr. Harshit = 111 111 1111\n",
    "Mr. Random = (222)342-2144\n",
    "'''\n",
    "regex = re.compile(r'\\d{3}.\\d{3}.\\d{3}[^1-3]')\n",
    "matches = regex.finditer(sample_text)\n",
    "for match in matches:\n",
    "    print (match)"
   ]
  },
  {
   "cell_type": "markdown",
   "metadata": {},
   "source": [
    " # Finding the Complicated patterns\n",
    " \n",
    "We have a multi line string . We will create a regular expression that allows us to find the names. Sometimes the names will contain the dot and sometimes not. When we use the ? operator then in that case, it will match 0 or 1 repetitions of the preceeding regular expression."
   ]
  },
  {
   "cell_type": "code",
   "execution_count": 31,
   "metadata": {},
   "outputs": [
    {
     "name": "stdout",
     "output_type": "stream",
     "text": [
      "<re.Match object; span=(1, 4), match='Mt.'>\n",
      "<re.Match object; span=(16, 18), match='Mt'>\n",
      "<re.Match object; span=(30, 33), match='Mt.'>\n",
      "<re.Match object; span=(45, 47), match='Mt'>\n"
     ]
    }
   ],
   "source": [
    "import re\n",
    "sample_text = '''\n",
    "Mt. A = 8000 m\n",
    "Mt B = 7800 m\n",
    "Mt. C = 7500 m\n",
    "Mt D = 7100 m\n",
    "'''\n",
    "regex = re.compile(r'Mt\\.?')\n",
    "matches = regex.finditer(sample_text)\n",
    "for match in matches:\n",
    "    print(match)"
   ]
  },
  {
   "cell_type": "code",
   "execution_count": 32,
   "metadata": {},
   "outputs": [
    {
     "name": "stdout",
     "output_type": "stream",
     "text": [
      "<re.Match object; span=(1, 6), match='Mt. A'>\n",
      "<re.Match object; span=(16, 20), match='Mt B'>\n",
      "<re.Match object; span=(30, 35), match='Mt. C'>\n",
      "<re.Match object; span=(45, 49), match='Mt D'>\n"
     ]
    }
   ],
   "source": [
    "import re\n",
    "sample_text = '''\n",
    "Mt. A = 8000 m\n",
    "Mt B = 7800 m\n",
    "Mt. C = 7500 m\n",
    "Mt D = 7100 m\n",
    "'''\n",
    "regex = re.compile(r'Mt\\.?\\s[A-Z]\\w*')\n",
    "matches = regex.finditer(sample_text)\n",
    "for match in matches:\n",
    "    print(match)"
   ]
  },
  {
   "cell_type": "markdown",
   "metadata": {},
   "source": [
    "# Groups\n",
    "We will use parenthesis () , metacharacters to define a group. As the name suggests, groups group together the expressions contained inside them, and we can repeat the contents of the group with a repeating qualifier, such as *,? or {m} that we have seen before. For example, (ab)* will match zero or more repetitions of ab. We will also use the OR| metacharacter within the group to be able to select either any of the data. Example:"
   ]
  },
  {
   "cell_type": "code",
   "execution_count": 33,
   "metadata": {},
   "outputs": [
    {
     "name": "stdout",
     "output_type": "stream",
     "text": [
      "<re.Match object; span=(1, 6), match='Mt. A'>\n",
      "<re.Match object; span=(16, 20), match='Mt B'>\n",
      "<re.Match object; span=(30, 35), match='Mt. C'>\n",
      "<re.Match object; span=(45, 49), match='Mt D'>\n",
      "<re.Match object; span=(59, 64), match='Mnt E'>\n"
     ]
    }
   ],
   "source": [
    "import re\n",
    "sample_text = '''\n",
    "Mt. A = 8000 m\n",
    "Mt B = 7800 m\n",
    "Mt. C = 7500 m\n",
    "Mt D = 7100 m\n",
    "Mnt E = 6300 m\n",
    "'''\n",
    "regex = re.compile(r'(Mt|Mnt)\\.?\\s[A-Z]\\w*')\n",
    "matches = regex.finditer(sample_text)\n",
    "for match in matches:\n",
    "    print(match)"
   ]
  },
  {
   "cell_type": "markdown",
   "metadata": {},
   "source": [
    "# Substitutions\n",
    "The re module can also be used to modify strings. Regex objects have the .sub() method that allows us to replace patterns within a string.\n",
    "\n",
    "Here we have replaced & with the word and."
   ]
  },
  {
   "cell_type": "code",
   "execution_count": 34,
   "metadata": {},
   "outputs": [
    {
     "name": "stdout",
     "output_type": "stream",
     "text": [
      "Original Text \n",
      "Tom & Jerry\n",
      "Jack & Jill\n",
      "\n",
      "Modified Text after substitution \n",
      "Tom and Jerry\n",
      "Jack and Jill\n",
      "\n"
     ]
    }
   ],
   "source": [
    "import re\n",
    "sample_text = '''\n",
    "Tom & Jerry\n",
    "Jack & Jill\n",
    "'''\n",
    "redex = re.compile(r'&')\n",
    "new_text = redex.sub(r'and', sample_text)\n",
    "print(\"Original Text\", sample_text)\n",
    "print(\"Modified Text after substitution\", new_text)"
   ]
  },
  {
   "cell_type": "markdown",
   "metadata": {},
   "source": [
    "# Substitutions using groups\n",
    "We will use the .sub() method to replace all the names in the string with just the first and last name. Example - ABC would be replaced by AC since A is the first name and C is the last name."
   ]
  },
  {
   "cell_type": "code",
   "execution_count": 35,
   "metadata": {},
   "outputs": [
    {
     "name": "stdout",
     "output_type": "stream",
     "text": [
      "<re.Match object; span=(1, 17), match='Harsh kumar Baid'>\n",
      "<re.Match object; span=(18, 30), match='Harshit Jain'>\n",
      "<re.Match object; span=(31, 52), match='Anant middle Bhandari'>\n",
      "<re.Match object; span=(53, 69), match='Shubham Sachdeva'>\n",
      "<re.Match object; span=(70, 84), match='Thrifty kapila'>\n",
      "<re.Match object; span=(85, 96), match='Maggu Gupta'>\n"
     ]
    }
   ],
   "source": [
    "# This will simply print all the names \n",
    "sample_text = '''\n",
    "Harsh kumar Baid\n",
    "Harshit Jain\n",
    "Anant middle Bhandari\n",
    "Shubham Sachdeva\n",
    "Thrifty kapila\n",
    "Maggu Gupta\n",
    "'''\n",
    "regex = re.compile(r'([a-zA-z]+)[ ]?([a-zA-z]+)?[ ]([a-zA-z]+)')\n",
    "matches = regex.finditer(sample_text)\n",
    "for match in matches:\n",
    "    print(match)"
   ]
  },
  {
   "cell_type": "code",
   "execution_count": 53,
   "metadata": {},
   "outputs": [
    {
     "name": "stdout",
     "output_type": "stream",
     "text": [
      "<re.Match object; span=(1, 17), match='Harsh kumar Baid'>\n",
      "Middle Name : \n",
      "<re.Match object; span=(18, 30), match='Harshit Jain'>\n",
      "Middle Name: None\n",
      "<re.Match object; span=(31, 52), match='Anant middle Bhandari'>\n",
      "Middle Name : \n",
      "<re.Match object; span=(53, 69), match='Shubham Sachdeva'>\n",
      "Middle Name: None\n",
      "<re.Match object; span=(70, 84), match='Thrifty kapila'>\n",
      "Middle Name: None\n",
      "<re.Match object; span=(85, 96), match='Maggu Gupta'>\n",
      "Middle Name: None\n"
     ]
    }
   ],
   "source": [
    "sample_text = '''\n",
    "Harsh kumar Baid\n",
    "Harshit Jain\n",
    "Anant middle Bhandari\n",
    "Shubham Sachdeva\n",
    "Thrifty kapila\n",
    "Maggu Gupta\n",
    "'''\n",
    "regex = re.compile(r'([a-zA-z]+)[ ]?([a-zA-z]+)?[ ]([a-zA-z]+)')\n",
    "matches = regex.finditer(sample_text)\n",
    "for match in matches:\n",
    "    print(match)\n",
    "    \n",
    "    if match.group(2) is None:\n",
    "        print('Middle Name: None')\n",
    "    else :\n",
    "        print('Middle Name : '+'')"
   ]
  },
  {
   "cell_type": "code",
   "execution_count": null,
   "metadata": {},
   "outputs": [],
   "source": []
  }
 ],
 "metadata": {
  "kernelspec": {
   "display_name": "Python 3",
   "language": "python",
   "name": "python3"
  },
  "language_info": {
   "codemirror_mode": {
    "name": "ipython",
    "version": 3
   },
   "file_extension": ".py",
   "mimetype": "text/x-python",
   "name": "python",
   "nbconvert_exporter": "python",
   "pygments_lexer": "ipython3",
   "version": "3.7.4"
  }
 },
 "nbformat": 4,
 "nbformat_minor": 2
}
