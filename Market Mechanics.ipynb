{
 "cells": [
  {
   "cell_type": "markdown",
   "metadata": {},
   "source": [
    "1. When a company first begins trading publically, it sets value for it's stock based on company metrics, such as revenue, profits, assets and so on. But from that point on, it's stock value is almost driven on how much demand it's stock has in the market.\n",
    "2. Demand is about how many people want to own some stock or how much money they are willing to pay for it. We want to see how many people are placing order for it and at what price. Modern market keep an electronic record of all the orders that have been submitted. A buyer places the minimum amount for which he/she wants to buy the share and the seller places the minimum amount for which they want to sell the share. Whenever a suitable match is found between a buyer and a seller, a trade is executed.\n",
    "3. Placing a bid - The price at which one wants to buy a particular share. It is like an offer or a committment to buy the share. It get's added to the market skew where all the different buy orders for the share is listed sorted by price. \n",
    "4. Stock Exchange is the authority which handles multiple transactions of stocks between buyers and sellers. It keeps a record of the last price at which the stock was traded. This is publically posted as the current price of the stock. This is called placing market order.\n",
    "5. A market maker is a financial firm, usually a brokerage that continuously offers to buy and sell stocks at publically advertised prices. They continuously purchase and sell stocks. Usually they keep a small difference between the bid and ask price which is their commission as it compensates for the risk they have taken. This difference is called bid-ask spread.\n"
   ]
  },
  {
   "cell_type": "markdown",
   "metadata": {},
   "source": [
    "1. ***Liquidity*** - A property of a financial asset to be bought or sold without causing sharp changes in it's price. A market maker is very important for maintaining liquidity in the market. The ability to trade an asset at a stable price is liquidity.\n",
    "2. Stocks that are difficult to buy or sell are called ***illiquid stocks***.\n",
    "3. Sometimes for the same stock the price will vary according to the location. Same stock is being traded for different prices at different location. This difference is generally small and not a big one. So this difference can be used for making high profits. This idea is called ***arbitrage***.\n"
   ]
  },
  {
   "cell_type": "markdown",
   "metadata": {},
   "source": [
    "1. ***Tick Data*** - Lists all the factors involved for a stock such as price, time, date, volume and so on. It is done so that the different stocks can be compared and provide a further insight into how a particular stock is behaving and thus helps in taking better decisions.\n",
    "2. Unfortunately, market maker is a busy place and taking all the historical tick data and comparing it will take a lot of time. So we need to convert the data in such a way that all the important characteristics are retained and so analysis is also carried out nicely. For example - In 2016, US reported a stock trade of about 42 trillion usd. It is a huge number and almost more than the double the gdp of the entire US. So, one needs understand how to use the data efficiently."
   ]
  },
  {
   "cell_type": "markdown",
   "metadata": {},
   "source": [
    "1. OHLC - Open High Low Close. They are carried out for a particular time period. Used in order to make trading and investing in stocks simple. A OHLC graph is generally used.\n",
    "2. Volume - Number of shares that are being traded over time. Sum of unit price times volume gives a better intuition \n",
    "3. If the demand for the stock is high i.e. there are more buyers of a share as compared to sellers, then the price of the stock increases.\n",
    "4. When a majority of shareholders sell the stock due to foreseeing the possibility of the stock price to go down, the price of the share goes down drastically. \n",
    "5. So we can conclude by saying that large volume of stock buying increases the price of the stock since it's demand increases whereas, large volume of net sell orders make the price of the share go down or fall.\n",
    "6. Some hedgefunds will spread their actions over days so that their own actions do not end up affecting the price adversly.\n",
    "7. Volume of a stock varies across any day. volume carries a lot of information about a stock. High volume trade is more likely to affect a stock than a low volume trade.\n",
    "8. Generally, when the market opens the stock which are of active interest are bought by a lot of investors i.e. a lot of trading at the beginning of the day since that is when the traders get to act on the stock as they have gathered a lot of information and analyzed it since the previous day's market has been closed. This is called price discovery and this helps the buyer and seller come to agree on a suitable rate for both.\n",
    "9. Then at the end of the day, the volume of the stock again increases since a lot of investors might want to sell their stocks as no one knows what activity might take place after the day ends and the stock might loose it's high value."
   ]
  },
  {
   "cell_type": "markdown",
   "metadata": {},
   "source": [
    "1. If one keeps gap in analyzing the market price of the stock, the approach is very wrong since it will give the user the correct interpretation of things and analyzing the trends of stock becomes difficult.\n",
    "2. Since different cities around the world have different timezones, the actual opening and closing times across the world are also different. For example - Honk kong stock exchange opens at 9:30 am in morning according to their local time and 7 hrs after honk kong stock exchange has been opened, the london stock exchange opens at 9:30 am in the morning according to london's local time zone and the new york stock exchange opens after 5 hours the london stock exchange has been opened as there is a difference of 5 hrs between london and US. This creates unnecessary complications and opportunities for the stock traders. The stock listed on all the countries have effect on each others price. So the time difference gives a good opportunity for the trader and investor to decide. So for example if the stock price of a company rises in hong kong, one can buy the stock in london when the market opens and the price of the stock is very likely to be very low at that time since the market has just opened in london since it is likely that the price of stock is going to rise in london as well. But this strategy has to be used very wisely and has to be taken with a pinch of salt."
   ]
  },
  {
   "cell_type": "code",
   "execution_count": null,
   "metadata": {},
   "outputs": [],
   "source": []
  }
 ],
 "metadata": {
  "kernelspec": {
   "display_name": "Python 3",
   "language": "python",
   "name": "python3"
  },
  "language_info": {
   "codemirror_mode": {
    "name": "ipython",
    "version": 3
   },
   "file_extension": ".py",
   "mimetype": "text/x-python",
   "name": "python",
   "nbconvert_exporter": "python",
   "pygments_lexer": "ipython3",
   "version": "3.7.4"
  }
 },
 "nbformat": 4,
 "nbformat_minor": 2
}
