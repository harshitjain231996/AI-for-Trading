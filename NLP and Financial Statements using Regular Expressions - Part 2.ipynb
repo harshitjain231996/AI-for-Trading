{
 "cells": [
  {
   "cell_type": "markdown",
   "metadata": {},
   "source": [
    "# Substitutions and Flags\n",
    "\n",
    "Regex objects have .sub() method which allows us to replace patterns within a string\n",
    "\n",
    "In the example below, we will replace & with and."
   ]
  },
  {
   "cell_type": "code",
   "execution_count": 17,
   "metadata": {},
   "outputs": [
    {
     "name": "stdout",
     "output_type": "stream",
     "text": [
      "Original Text: \n",
      "Jack & Jill\n",
      "Batman & Robin\n",
      "Joker & Harley\n",
      "\n",
      "New Text: \n",
      "Jack and Jill\n",
      "Batman and Robin\n",
      "Joker and Harley\n",
      "\n"
     ]
    }
   ],
   "source": [
    "import re\n",
    "sample_text = '''\n",
    "Jack & Jill\n",
    "Batman & Robin\n",
    "Joker & Harley\n",
    "'''\n",
    "regex = re.compile(r'&') # We will create regex object in order to carry out the substitution\n",
    "new_tetx = regex.sub(r'and',sample_text) # It will replace every occurence of a particular string with another string \n",
    "print(\"Original Text:\",sample_text)\n",
    "print(\"New Text:\",new_tetx)"
   ]
  },
  {
   "cell_type": "markdown",
   "metadata": {},
   "source": [
    "## Substitutions using Groups\n",
    "\n",
    "Here we are using groups in order to remove the middle name and only keep the first name and last name. The middle name is optional and not everyone has a middle name. So we will keep it optional. We will even keep the whitespace as optional attribute.\n",
    "\n",
    "To mention a particular attribute being optional, we will use the ? character after the occurence of the pattern. We will match the whitespace with \\ [  \\ ]. We did not use the \\\\s sequence since this will match the newlines as well and we do not want to match those. Finally we will make the 3rd group to match the last name. Since all have the last name, we will not use ?. Since the middle name and whitespace after the first name is optional, we will use ? at the end of their occurence. Notice the whitespace after first name will only be optional if there is no middle name as there cannot be 2 spaces between first name and last name. The whitespace between first name and last name is compulsory. "
   ]
  },
  {
   "cell_type": "code",
   "execution_count": 18,
   "metadata": {},
   "outputs": [
    {
     "name": "stdout",
     "output_type": "stream",
     "text": [
      "<re.Match object; span=(1, 16), match='Anuj kumar Baid'>\n",
      "<re.Match object; span=(17, 29), match='Harshit Jain'>\n",
      "<re.Match object; span=(30, 51), match='Anant middle Bhandari'>\n",
      "<re.Match object; span=(52, 68), match='Shubham Sachdeva'>\n",
      "<re.Match object; span=(69, 83), match='Thrifty Kapila'>\n",
      "<re.Match object; span=(84, 95), match='Maggu Gupta'>\n"
     ]
    }
   ],
   "source": [
    "sample_text = '''\n",
    "Anuj kumar Baid\n",
    "Harshit Jain\n",
    "Anant middle Bhandari\n",
    "Shubham Sachdeva\n",
    "Thrifty Kapila\n",
    "Maggu Gupta\n",
    "'''\n",
    "regex = re.compile(r'([a-zA-z]+)[ ]?([a-zA-z]+)?[ ]([a-zA-z]+)')\n",
    "matches = regex.finditer(sample_text)\n",
    "for match in matches:\n",
    "    print(match)"
   ]
  },
  {
   "cell_type": "markdown",
   "metadata": {},
   "source": [
    "### Using groups in order to distinguish between first name, middle name and last name"
   ]
  },
  {
   "cell_type": "code",
   "execution_count": 19,
   "metadata": {},
   "outputs": [
    {
     "name": "stdout",
     "output_type": "stream",
     "text": [
      "\n",
      " First name:Anuj\n",
      "Middle Name:kumar\n",
      "Last Name:Baid\n",
      "\n",
      " First name:Harshit\n",
      "Middle name : None\n",
      "Last Name:Jain\n",
      "\n",
      " First name:Anant\n",
      "Middle Name:middle\n",
      "Last Name:Bhandari\n",
      "\n",
      " First name:Shubham\n",
      "Middle name : None\n",
      "Last Name:Sachdeva\n",
      "\n",
      " First name:Thrifty\n",
      "Middle name : None\n",
      "Last Name:kapila\n",
      "\n",
      " First name:Maggu\n",
      "Middle name : None\n",
      "Last Name:Gupta\n"
     ]
    }
   ],
   "source": [
    "sample_text = '''\n",
    "Anuj kumar Baid\n",
    "Harshit Jain\n",
    "Anant middle Bhandari\n",
    "Shubham Sachdeva\n",
    "Thrifty kapila\n",
    "Maggu Gupta\n",
    "'''\n",
    "regex = re.compile(r'([a-zA-z]+)[ ]?([a-zA-z]+)?[ ]([a-zA-z]+)')\n",
    "matches = regex.finditer(sample_text)\n",
    "for match in matches:\n",
    "    print(\"\\n First name:\"+match.group(1))\n",
    "    if match.group(2) is None:\n",
    "        print(\"Middle name : None\")\n",
    "    else:\n",
    "        print(\"Middle Name:\"+match.group(2))\n",
    "    print(\"Last Name:\"+match.group(3))"
   ]
  },
  {
   "cell_type": "code",
   "execution_count": 20,
   "metadata": {},
   "outputs": [
    {
     "name": "stdout",
     "output_type": "stream",
     "text": [
      "\n",
      "Anuj Baid\n",
      "Harshi Jain\n",
      "Anant Bhandari\n",
      "Shubha Sachdeva\n",
      "Thrift kapila\n",
      "Magg Gupta\n",
      "\n"
     ]
    }
   ],
   "source": [
    "sample_text = '''\n",
    "Anuj kumar Baid\n",
    "Harshit Jain\n",
    "Anant middle Bhandari\n",
    "Shubham Sachdeva\n",
    "Thrifty kapila\n",
    "Maggu Gupta\n",
    "'''\n",
    "regex = re.compile(r'([a-zA-z]+)[ ]?([a-zA-z])+?[ ]([a-zA-z]+)')\n",
    "new_text = regex.sub(r'\\1 \\3',sample_text) # Referring to each group in the sub method by using \\.\n",
    "print(new_text) "
   ]
  },
  {
   "cell_type": "markdown",
   "metadata": {},
   "source": [
    "# Flags\n",
    "\n",
    "As it is known regexes are case sensitive, we will use something called flag keyword which will provide us more flexibility. For example, the re.IGNORECASE flag can be used to perform case-insensitive matching. In the code below, we have a string that contains the same name but with different cases. We will use the re.IGNORECASE in order to indicate that we do not care about case-matching."
   ]
  },
  {
   "cell_type": "code",
   "execution_count": 23,
   "metadata": {},
   "outputs": [],
   "source": [
    "sample_text = 'Harshit Jain is a good boy. HARSHIT has the will and potential to do anything but he just has to believe in himself and work hard in order to achieve them!'"
   ]
  },
  {
   "cell_type": "code",
   "execution_count": 24,
   "metadata": {},
   "outputs": [
    {
     "name": "stdout",
     "output_type": "stream",
     "text": [
      "<re.Match object; span=(0, 7), match='Harshit'>\n",
      "<re.Match object; span=(28, 35), match='HARSHIT'>\n"
     ]
    }
   ],
   "source": [
    "regex = re.compile(r'harshit',re.IGNORECASE)\n",
    "matches = regex.finditer(sample_text)\n",
    "for match in matches:\n",
    "    print(match)"
   ]
  },
  {
   "cell_type": "markdown",
   "metadata": {},
   "source": [
    "# BeautifulSoup"
   ]
  },
  {
   "cell_type": "markdown",
   "metadata": {},
   "source": [
    "It is a python library which allows us to pull data directly from html websites and xml files. It is particularly useful when the original document is formatted as html or xml.\n",
    "\n",
    "Problems with BeautifulSoup:\n",
    "1. Works best when we have perfectly formatted HTML. This means that the HTML document which we are analyzing has missing information or mistakes then this can result in beautiful soup returning the wrong text.\n",
    "2. Not all the 10k's are in HTML or XML format. The older 10k's are not in html or xml format, so we will not be able to use html or xml there."
   ]
  },
  {
   "cell_type": "markdown",
   "metadata": {},
   "source": [
    "# Parser\n",
    "\n",
    "It is a piece of software whose primary job is to build a data structure in the form of a hierarchical tree that gives a structural representation of the HTML or XML file. In other words, the parser divides the complex files into simpler parts while keeping track of how these parts are related to each other. BeautifulSoup supports a number of parsers, but we will be only focusing on lxml parsers which can be used to parse both html and xml files and it also has the advantage of being very fast. \n",
    "\n",
    "We can install lxml with the following command:\n",
    "pip install lxml"
   ]
  },
  {
   "cell_type": "markdown",
   "metadata": {},
   "source": [
    "## Parsing an HTML File\n",
    "\n",
    "To parse an HTML or XML document, we need to pass the document into BeautifulSoup constructor. The BeautifulSoup constructor, BeautifulSoup(file, 'parser'), parses the given file using the given parser and returns a BeautifulSoup object. We can pass our file to the constructor either as a string or as open filehandle, while the parser is a string that indicates the parser we want to use.\n",
    "\n",
    "The BeautifulSoup constructor will transform the HTML or XML file into a complex tree of python objects. One of the objects is the BeautifulSoup object returned by the constructor. The BeautifulSoup object itself represents the document as a whole and can be searched using various methods. Usage:\n",
    "    \n",
    "    from bs4 import BeautifulSoup"
   ]
  },
  {
   "cell_type": "code",
   "execution_count": 25,
   "metadata": {},
   "outputs": [
    {
     "name": "stdout",
     "output_type": "stream",
     "text": [
      "<html>\n",
      "<!-- Text between angle brackets is an HTML tag and is not displayed.\n",
      "Most tags, such as the HTML and /HTML tags that surround the contents of\n",
      "a page, come in pairs; some tags, like HR, for a horizontal rule, stand \n",
      "alone. Comments, such as the text you're reading, are not displayed when\n",
      "the Web page is shown. The information between the HEAD and /HEAD tags is \n",
      "not displayed. The information between the BODY and /BODY tags is displayed.-->\n",
      "<head>\n",
      "<title>Enter a title, displayed at the top of the window.</title>\n",
      "</head>\n",
      "<!-- The information between the BODY and /BODY tags is displayed.-->\n",
      "<body>\n",
      "<h1>Enter the main heading, usually the same as the title.</h1>\n",
      "<p>Be <b>bold</b> in stating your key points. Put them in a list: </p>\n",
      "<ul>\n",
      "<li>The first item in your list</li>\n",
      "<li>The second item; <i>italicize</i> key words</li>\n",
      "</ul>\n",
      "<p>Improve your image by including an image. </p>\n",
      "<p><img alt=\"A Great HTML Resource\" src=\"http://www.mygifs.com/CoverImage.gif\"/></p>\n",
      "<p>Add a link to your favorite <a href=\"https://www.dummies.com/\">Web site</a>.\n",
      "Break up your page with a horizontal rule or two. </p>\n",
      "<hr/>\n",
      "<p>Finally, link to <a href=\"page2.html\">another page</a> in your own Web site.</p>\n",
      "<!-- And add a copyright notice.-->\n",
      "<p>© Wiley Publishing, 2011</p>\n",
      "</body>\n",
      "</html>\n"
     ]
    }
   ],
   "source": [
    "from bs4 import BeautifulSoup\n",
    "\n",
    "# opening the html file and create a BeautifulSoup Object:\n",
    "\n",
    "with open('./sample.html') as f:\n",
    "    page_content = BeautifulSoup(f, 'lxml')\n",
    "    \n",
    "# Printing the BeautifulSoup object:\n",
    "\n",
    "print(page_content)"
   ]
  },
  {
   "cell_type": "code",
   "execution_count": 26,
   "metadata": {},
   "outputs": [
    {
     "name": "stdout",
     "output_type": "stream",
     "text": [
      "<html>\n",
      " <!-- Text between angle brackets is an HTML tag and is not displayed.\n",
      "Most tags, such as the HTML and /HTML tags that surround the contents of\n",
      "a page, come in pairs; some tags, like HR, for a horizontal rule, stand \n",
      "alone. Comments, such as the text you're reading, are not displayed when\n",
      "the Web page is shown. The information between the HEAD and /HEAD tags is \n",
      "not displayed. The information between the BODY and /BODY tags is displayed.-->\n",
      " <head>\n",
      "  <title>\n",
      "   Enter a title, displayed at the top of the window.\n",
      "  </title>\n",
      " </head>\n",
      " <!-- The information between the BODY and /BODY tags is displayed.-->\n",
      " <body>\n",
      "  <h1>\n",
      "   Enter the main heading, usually the same as the title.\n",
      "  </h1>\n",
      "  <p>\n",
      "   Be\n",
      "   <b>\n",
      "    bold\n",
      "   </b>\n",
      "   in stating your key points. Put them in a list:\n",
      "  </p>\n",
      "  <ul>\n",
      "   <li>\n",
      "    The first item in your list\n",
      "   </li>\n",
      "   <li>\n",
      "    The second item;\n",
      "    <i>\n",
      "     italicize\n",
      "    </i>\n",
      "    key words\n",
      "   </li>\n",
      "  </ul>\n",
      "  <p>\n",
      "   Improve your image by including an image.\n",
      "  </p>\n",
      "  <p>\n",
      "   <img alt=\"A Great HTML Resource\" src=\"http://www.mygifs.com/CoverImage.gif\"/>\n",
      "  </p>\n",
      "  <p>\n",
      "   Add a link to your favorite\n",
      "   <a href=\"https://www.dummies.com/\">\n",
      "    Web site\n",
      "   </a>\n",
      "   .\n",
      "Break up your page with a horizontal rule or two.\n",
      "  </p>\n",
      "  <hr/>\n",
      "  <p>\n",
      "   Finally, link to\n",
      "   <a href=\"page2.html\">\n",
      "    another page\n",
      "   </a>\n",
      "   in your own Web site.\n",
      "  </p>\n",
      "  <!-- And add a copyright notice.-->\n",
      "  <p>\n",
      "   © Wiley Publishing, 2011\n",
      "  </p>\n",
      " </body>\n",
      "</html>\n"
     ]
    }
   ],
   "source": [
    "# Printing the BeautifulSoup Object with prettify\n",
    "\n",
    "print(page_content.prettify())"
   ]
  },
  {
   "cell_type": "markdown",
   "metadata": {},
   "source": [
    "As we can see above, the prettify() object will make the object easier to read and it also allows us to identify tags more readily. "
   ]
  },
  {
   "cell_type": "markdown",
   "metadata": {},
   "source": [
    "# Navigating the Parse Tree\n",
    "\n",
    "The most straightforward way of navigating the parse tree created by BeautifulSoup is by accessing the HTML or XML tags. We can access these elements as if they were the elements or attributes of BeautifulSoup itself.\n",
    "\n",
    "We will use the <head> tag in our page_content object using the statement.\n",
    "    page_content.head\n",
    "    \n",
    "Whenever we access a tag in this manner, we get a Tag object. Tag object will save in the page_head variable. We then print the Tag object to see what it looks like.\n"
   ]
  },
  {
   "cell_type": "code",
   "execution_count": 27,
   "metadata": {},
   "outputs": [
    {
     "name": "stdout",
     "output_type": "stream",
     "text": [
      "<head>\n",
      " <title>\n",
      "  Enter a title, displayed at the top of the window.\n",
      " </title>\n",
      "</head>\n",
      "\n"
     ]
    }
   ],
   "source": [
    "from bs4 import BeautifulSoup \n",
    "with open('./sample.html') as f:\n",
    "    page_content = BeautifulSoup(f, 'lxml')\n",
    "    \n",
    "page_head = page_content.head\n",
    "print(page_head.prettify())"
   ]
  },
  {
   "cell_type": "markdown",
   "metadata": {},
   "source": [
    "As we can see the prettify object has the entire contents of the <head> tag only, including all the openings and closing tags with it. These subtags are called the children of the <head> tag.\n",
    "    \n",
    "We can access the child tags within the <head> tag as if they were the attributes of the page_head. For example if we want to access the <title> tag within the <head> tag we can use:\n",
    "    "
   ]
  },
  {
   "cell_type": "code",
   "execution_count": 28,
   "metadata": {},
   "outputs": [
    {
     "data": {
      "text/plain": [
       "<title>Enter a title, displayed at the top of the window.</title>"
      ]
     },
     "execution_count": 28,
     "metadata": {},
     "output_type": "execute_result"
    }
   ],
   "source": [
    "page_head.title"
   ]
  },
  {
   "cell_type": "markdown",
   "metadata": {},
   "source": [
    "## Getting text"
   ]
  },
  {
   "cell_type": "code",
   "execution_count": 29,
   "metadata": {},
   "outputs": [
    {
     "name": "stdout",
     "output_type": "stream",
     "text": [
      "<title>Enter a title, displayed at the top of the window.</title>\n"
     ]
    }
   ],
   "source": [
    "print(page_head.title)"
   ]
  },
  {
   "cell_type": "markdown",
   "metadata": {},
   "source": [
    "### If we only want to print the text in the title tag within the head tag"
   ]
  },
  {
   "cell_type": "code",
   "execution_count": 31,
   "metadata": {},
   "outputs": [
    {
     "name": "stdout",
     "output_type": "stream",
     "text": [
      "Enter a title, displayed at the top of the window.\n"
     ]
    }
   ],
   "source": [
    "print(page_head.title.get_text())"
   ]
  },
  {
   "cell_type": "markdown",
   "metadata": {},
   "source": [
    "## getting Attributes\n",
    "\n",
    "An html or xml tag can have many attributes. BeautifulSoup allows us to get the value of a tag's attribute by treating it like a dictionary."
   ]
  },
  {
   "cell_type": "code",
   "execution_count": 36,
   "metadata": {},
   "outputs": [
    {
     "name": "stdout",
     "output_type": "stream",
     "text": [
      "1\n"
     ]
    }
   ],
   "source": [
    "from bs4 import BeautifulSoup\n",
    "# opening the html file and creating a BeautifulSoup object\n",
    "with open('./sample.html') as f:\n",
    "    page_content = BeautifulSoup(f,'lxml')\n",
    "# Access the h1 tag\n",
    "page_h1 = page_content.body.h1\n",
    "# get the value of the id attribute from the h1 tag\n",
    "h1_id_attr = page_h1['id']\n",
    "# Print the value of the id attribute\n",
    "print(h1_id_attr)"
   ]
  },
  {
   "cell_type": "markdown",
   "metadata": {},
   "source": [
    "## Finding all tags"
   ]
  },
  {
   "cell_type": "code",
   "execution_count": 37,
   "metadata": {},
   "outputs": [
    {
     "name": "stdout",
     "output_type": "stream",
     "text": [
      "<html>\n",
      " <!-- Text between angle brackets is an HTML tag and is not displayed.\n",
      "Most tags, such as the HTML and /HTML tags that surround the contents of\n",
      "a page, come in pairs; some tags, like HR, for a horizontal rule, stand \n",
      "alone. Comments, such as the text you're reading, are not displayed when\n",
      "the Web page is shown. The information between the HEAD and /HEAD tags is \n",
      "not displayed. The information between the BODY and /BODY tags is displayed.-->\n",
      " <head>\n",
      "  <title>\n",
      "   Enter a title, displayed at the top of the window.\n",
      "  </title>\n",
      " </head>\n",
      " <!-- The information between the BODY and /BODY tags is displayed.-->\n",
      " <body>\n",
      "  <h1 id=\"1\">\n",
      "   Enter the main heading, usually the same as the title.\n",
      "  </h1>\n",
      "  <p>\n",
      "   Be\n",
      "   <b>\n",
      "    bold\n",
      "   </b>\n",
      "   in stating your key points. Put them in a list:\n",
      "  </p>\n",
      "  <ul>\n",
      "   <li>\n",
      "    The first item in your list\n",
      "   </li>\n",
      "   <li>\n",
      "    The second item;\n",
      "    <i>\n",
      "     italicize\n",
      "    </i>\n",
      "    key words\n",
      "   </li>\n",
      "  </ul>\n",
      "  <p>\n",
      "   Improve your image by including an image.\n",
      "  </p>\n",
      "  <p>\n",
      "   <img alt=\"A Great HTML Resource\" src=\"http://www.mygifs.com/CoverImage.gif\"/>\n",
      "  </p>\n",
      "  <p>\n",
      "   Add a link to your favorite\n",
      "   <a href=\"https://www.dummies.com/\">\n",
      "    Web site\n",
      "   </a>\n",
      "   .\n",
      "Break up your page with a horizontal rule or two.\n",
      "  </p>\n",
      "  <hr/>\n",
      "  <p>\n",
      "   Finally, link to\n",
      "   <a href=\"page2.html\">\n",
      "    another page\n",
      "   </a>\n",
      "   in your own Web site.\n",
      "  </p>\n",
      "  <!-- And add a copyright notice.-->\n",
      "  <p>\n",
      "   © Wiley Publishing, 2011\n",
      "  </p>\n",
      " </body>\n",
      "</html>\n"
     ]
    }
   ],
   "source": [
    "from bs4 import BeautifulSoup\n",
    "with open('./sample.html') as f:\n",
    "    page_content = BeautifulSoup(f,'lxml')\n",
    "print(page_content.prettify())"
   ]
  },
  {
   "cell_type": "code",
   "execution_count": 41,
   "metadata": {},
   "outputs": [
    {
     "data": {
      "text/plain": [
       "<p>Be <b>bold</b> in stating your key points. Put them in a list: </p>"
      ]
     },
     "execution_count": 41,
     "metadata": {},
     "output_type": "execute_result"
    }
   ],
   "source": [
    "page_content.body.p"
   ]
  },
  {
   "cell_type": "markdown",
   "metadata": {},
   "source": [
    "# Searching the parse tree"
   ]
  },
  {
   "cell_type": "markdown",
   "metadata": {},
   "source": [
    "Even though BeautifulSoup covers a lot of methods in order to parse a tree, we will only cover the .find_all() method.\n",
    "\n",
    "find_all(filter) method will search an entire document for the given filter. The filter can be a string containing an HTML or XML tag name, a tag attribute or even a regular expression."
   ]
  },
  {
   "cell_type": "code",
   "execution_count": 44,
   "metadata": {},
   "outputs": [
    {
     "name": "stdout",
     "output_type": "stream",
     "text": [
      "[<h1 id=\"1\">Enter the main heading, usually the same as the title.</h1>, <h1 id=\"2\"> The second heading just for random testing purpose</h1>]\n"
     ]
    }
   ],
   "source": [
    "from bs4 import BeautifulSoup\n",
    "with open('./sample.html') as f:\n",
    "    page_content = BeautifulSoup(f,'lxml')\n",
    "list = page_content.find_all('h1')\n",
    "print(list)"
   ]
  },
  {
   "cell_type": "code",
   "execution_count": 45,
   "metadata": {},
   "outputs": [
    {
     "name": "stdout",
     "output_type": "stream",
     "text": [
      "<h1 id=\"1\">Enter the main heading, usually the same as the title.</h1>\n",
      "<h1 id=\"2\"> The second heading just for random testing purpose</h1>\n"
     ]
    }
   ],
   "source": [
    "for tag in list:\n",
    "    print(tag)"
   ]
  },
  {
   "cell_type": "markdown",
   "metadata": {},
   "source": [
    "## Searching for multiple tags\n",
    "\n",
    "We can also search for more than one tag at a time by passing a list to the .findall() method."
   ]
  },
  {
   "cell_type": "code",
   "execution_count": 46,
   "metadata": {},
   "outputs": [
    {
     "name": "stdout",
     "output_type": "stream",
     "text": [
      "<h1 id=\"1\">\n",
      " Enter the main heading, usually the same as the title.\n",
      "</h1>\n",
      "\n",
      "<p>\n",
      " Be\n",
      " <b>\n",
      "  bold\n",
      " </b>\n",
      " in stating your key points. Put them in a list:\n",
      "</p>\n",
      "\n",
      "<p class=\"improve\">\n",
      " Improve your image by including an image.\n",
      "</p>\n",
      "\n",
      "<p>\n",
      " <img alt=\"A Great HTML Resource\" src=\"http://www.mygifs.com/CoverImage.gif\"/>\n",
      "</p>\n",
      "\n",
      "<p>\n",
      " Add a link to your favorite\n",
      " <a href=\"https://www.dummies.com/\">\n",
      "  Web site\n",
      " </a>\n",
      " .\n",
      "Break up your page with a horizontal rule or two.\n",
      "</p>\n",
      "\n",
      "<p>\n",
      " Finally, link to\n",
      " <a href=\"page2.html\">\n",
      "  another page\n",
      " </a>\n",
      " in your own Web site.\n",
      "</p>\n",
      "\n",
      "<p>\n",
      " © Wiley Publishing, 2011\n",
      "</p>\n",
      "\n",
      "<h1 id=\"2\">\n",
      " The second heading just for random testing purpose\n",
      "</h1>\n",
      "\n"
     ]
    }
   ],
   "source": [
    "from bs4 import BeautifulSoup\n",
    "with open('./sample.html') as f:\n",
    "    page_content = BeautifulSoup(f,'lxml')\n",
    "for tag in page_content.find_all(['h1','p']):\n",
    "    print(tag.prettify())"
   ]
  },
  {
   "cell_type": "markdown",
   "metadata": {},
   "source": [
    "## Searching for tags with multiple attributes"
   ]
  },
  {
   "cell_type": "code",
   "execution_count": 48,
   "metadata": {},
   "outputs": [
    {
     "name": "stdout",
     "output_type": "stream",
     "text": [
      "<h1 id=\"1\">Enter the main heading, usually the same as the title.</h1>\n"
     ]
    }
   ],
   "source": [
    "from bs4 import BeautifulSoup\n",
    "with open('./sample.html') as f:\n",
    "    page_content = BeautifulSoup(f, 'lxml')\n",
    "h1 = page_content.find_all('h1', id ='1')\n",
    "for tag in h1:\n",
    "    print(tag)"
   ]
  },
  {
   "cell_type": "markdown",
   "metadata": {},
   "source": [
    "## Searching for atributes directly"
   ]
  },
  {
   "cell_type": "code",
   "execution_count": 49,
   "metadata": {},
   "outputs": [
    {
     "name": "stdout",
     "output_type": "stream",
     "text": [
      "<h1 id=\"1\">Enter the main heading, usually the same as the title.</h1>\n"
     ]
    }
   ],
   "source": [
    "from bs4 import BeautifulSoup\n",
    "with open('./sample.html') as f:\n",
    "    page_content = BeautifulSoup(f, 'lxml')\n",
    "for tag in page_content.find_all(id='1'):\n",
    "    print(tag)"
   ]
  },
  {
   "cell_type": "markdown",
   "metadata": {},
   "source": [
    "# Searching by class\n",
    "\n",
    "For working with class, we cannot pass the method find_all(). The reason is that CSS attribute class is a reserved keyword in python. Therefore it will give a syntax error. To solve this, we use class_ in BeautifulSoup."
   ]
  },
  {
   "cell_type": "code",
   "execution_count": 52,
   "metadata": {},
   "outputs": [
    {
     "name": "stdout",
     "output_type": "stream",
     "text": [
      "<p class=\"2\">Improve your image by including an image. </p>\n"
     ]
    }
   ],
   "source": [
    "from bs4 import BeautifulSoup\n",
    "with open('./sample.html') as f:\n",
    "    page_content = BeautifulSoup(f, 'lxml')\n",
    "for tag in page_content.find_all(class_= 2):\n",
    "    print(tag)"
   ]
  },
  {
   "cell_type": "markdown",
   "metadata": {},
   "source": [
    "# Searching with Regular Expressions\n",
    "\n",
    "We can even pass a regular expression to the find_all()."
   ]
  },
  {
   "cell_type": "code",
   "execution_count": 54,
   "metadata": {},
   "outputs": [
    {
     "name": "stdout",
     "output_type": "stream",
     "text": [
      "title\n",
      "li\n",
      "li\n",
      "i\n",
      "img\n"
     ]
    }
   ],
   "source": [
    "from bs4 import BeautifulSoup\n",
    "with open('./sample.html') as f:\n",
    "    page_content = BeautifulSoup(f, 'lxml')\n",
    "# Prints only the tag names of the tags which contain the letter i:\n",
    "for tag in page_content.find_all(re.compile(r'i')):\n",
    "    print(tag.name)"
   ]
  },
  {
   "cell_type": "markdown",
   "metadata": {},
   "source": [
    "# Tags Children\n",
    "\n",
    "Tags may contain another tags and strings within them. These elements are known as tags children. "
   ]
  },
  {
   "cell_type": "code",
   "execution_count": 55,
   "metadata": {},
   "outputs": [
    {
     "name": "stdout",
     "output_type": "stream",
     "text": [
      "<html>\n",
      " <!-- Text between angle brackets is an HTML tag and is not displayed.\n",
      "Most tags, such as the HTML and /HTML tags that surround the contents of\n",
      "a page, come in pairs; some tags, like HR, for a horizontal rule, stand \n",
      "alone. Comments, such as the text you're reading, are not displayed when\n",
      "the Web page is shown. The information between the HEAD and /HEAD tags is \n",
      "not displayed. The information between the BODY and /BODY tags is displayed.-->\n",
      " <head>\n",
      "  <title>\n",
      "   Enter a title, displayed at the top of the window.\n",
      "  </title>\n",
      " </head>\n",
      " <!-- The information between the BODY and /BODY tags is displayed.-->\n",
      " <body>\n",
      "  <h1 id=\"1\">\n",
      "   Enter the main heading, usually the same as the title.\n",
      "  </h1>\n",
      "  <p>\n",
      "   Be\n",
      "   <b>\n",
      "    bold\n",
      "   </b>\n",
      "   in stating your key points. Put them in a list:\n",
      "  </p>\n",
      "  <ul>\n",
      "   <li>\n",
      "    The first item in your list\n",
      "   </li>\n",
      "   <li>\n",
      "    The second item;\n",
      "    <i>\n",
      "     italicize\n",
      "    </i>\n",
      "    key words\n",
      "   </li>\n",
      "  </ul>\n",
      "  <p class=\"2\">\n",
      "   Improve your image by including an image.\n",
      "  </p>\n",
      "  <p>\n",
      "   <img alt=\"A Great HTML Resource\" src=\"http://www.mygifs.com/CoverImage.gif\"/>\n",
      "  </p>\n",
      "  <p>\n",
      "   Add a link to your favorite\n",
      "   <a href=\"https://www.dummies.com/\">\n",
      "    Web site\n",
      "   </a>\n",
      "   .\n",
      "Break up your page with a horizontal rule or two.\n",
      "  </p>\n",
      "  <hr/>\n",
      "  <p>\n",
      "   Finally, link to\n",
      "   <a href=\"page2.html\">\n",
      "    another page\n",
      "   </a>\n",
      "   in your own Web site.\n",
      "  </p>\n",
      "  <!-- And add a copyright notice.-->\n",
      "  <p>\n",
      "   © Wiley Publishing, 2011\n",
      "  </p>\n",
      "  <h1 id=\"2\">\n",
      "   The second heading just for random testing purpose\n",
      "  </h1>\n",
      " </body>\n",
      "</html>\n"
     ]
    }
   ],
   "source": [
    "from bs4 import BeautifulSoup\n",
    "\n",
    "with open('./sample.html') as f:\n",
    "    page_content = BeautifulSoup(f, 'lxml')\n",
    "print(page_content.prettify())"
   ]
  },
  {
   "cell_type": "code",
   "execution_count": 63,
   "metadata": {},
   "outputs": [
    {
     "name": "stdout",
     "output_type": "stream",
     "text": [
      "Enter a title, displayed at the top of the window.\n"
     ]
    }
   ],
   "source": [
    "from bs4 import BeautifulSoup\n",
    "\n",
    "with open('./sample.html') as f:\n",
    "    page_content = (BeautifulSoup(f, 'lxml').head.title.get_text())\n",
    "print(page_content)"
   ]
  },
  {
   "cell_type": "code",
   "execution_count": 67,
   "metadata": {},
   "outputs": [
    {
     "name": "stdout",
     "output_type": "stream",
     "text": [
      "['\\n', \" Text between angle brackets is an HTML tag and is not displayed.\\nMost tags, such as the HTML and /HTML tags that surround the contents of\\na page, come in pairs; some tags, like HR, for a horizontal rule, stand \\nalone. Comments, such as the text you're reading, are not displayed when\\nthe Web page is shown. The information between the HEAD and /HEAD tags is \\nnot displayed. The information between the BODY and /BODY tags is displayed.\", '\\n', <head>\n",
      "<title>Enter a title, displayed at the top of the window.</title>\n",
      "</head>, '\\n', ' The information between the BODY and /BODY tags is displayed.', '\\n', <body>\n",
      "<h1 id=\"1\">Enter the main heading, usually the same as the title.</h1>\n",
      "<p>Be <b>bold</b> in stating your key points. Put them in a list: </p>\n",
      "<ul>\n",
      "<li>The first item in your list</li>\n",
      "<li>The second item; <i>italicize</i> key words</li>\n",
      "</ul>\n",
      "<p class=\"2\">Improve your image by including an image. </p>\n",
      "<p><img alt=\"A Great HTML Resource\" src=\"http://www.mygifs.com/CoverImage.gif\"/></p>\n",
      "<p>Add a link to your favorite <a href=\"https://www.dummies.com/\">Web site</a>.\n",
      "Break up your page with a horizontal rule or two. </p>\n",
      "<hr/>\n",
      "<p>Finally, link to <a href=\"page2.html\">another page</a> in your own Web site.</p>\n",
      "<!-- And add a copyright notice.-->\n",
      "<p>© Wiley Publishing, 2011</p>\n",
      "<h1 id=\"2\"> The second heading just for random testing purpose</h1>\n",
      "</body>, '\\n']\n",
      "\n",
      " The <html> tag contains 9 tag elements as children\n"
     ]
    }
   ],
   "source": [
    "from bs4 import BeautifulSoup\n",
    "with open('./sample.html') as f:\n",
    "    page_content = BeautifulSoup(f,'lxml')\n",
    "page_html = page_content.html\n",
    "print(page_head.contents)\n",
    "print(\"\\n The <html> tag contains {} tag elements as children\".format(len(page_head.contents)))"
   ]
  },
  {
   "cell_type": "code",
   "execution_count": 71,
   "metadata": {},
   "outputs": [
    {
     "name": "stdout",
     "output_type": "stream",
     "text": [
      "\n",
      "\n",
      "<title>Enter a title, displayed at the top of the window.</title>\n",
      "\n",
      "\n"
     ]
    }
   ],
   "source": [
    "# Instead of getting the html children tag as list, we can also loop through it by using the .children attribute\n",
    "from bs4 import BeautifulSoup\n",
    "with open('./sample.html') as f:\n",
    "    get_text = BeautifulSoup(f,'lxml')\n",
    "for child in page_content.head.children:\n",
    "    print(child)"
   ]
  },
  {
   "cell_type": "markdown",
   "metadata": {},
   "source": [
    "## The Recursive Argument"
   ]
  },
  {
   "cell_type": "markdown",
   "metadata": {},
   "source": [
    "If we use the .find_all() method on a target object, tag.find_all() =, then the find_all() method will search all the tags children, it's children's children, and so on. However, there will be times where we only want BeautifulSoup to search a tag's direct children. To do this we will pass the recursive=False argument to .find_all() method."
   ]
  },
  {
   "cell_type": "code",
   "execution_count": 72,
   "metadata": {},
   "outputs": [
    {
     "name": "stdout",
     "output_type": "stream",
     "text": [
      "<html>\n",
      " <!-- Text between angle brackets is an HTML tag and is not displayed.\n",
      "Most tags, such as the HTML and /HTML tags that surround the contents of\n",
      "a page, come in pairs; some tags, like HR, for a horizontal rule, stand \n",
      "alone. Comments, such as the text you're reading, are not displayed when\n",
      "the Web page is shown. The information between the HEAD and /HEAD tags is \n",
      "not displayed. The information between the BODY and /BODY tags is displayed.-->\n",
      " <head>\n",
      "  <title>\n",
      "   Enter a title, displayed at the top of the window.\n",
      "  </title>\n",
      " </head>\n",
      " <!-- The information between the BODY and /BODY tags is displayed.-->\n",
      " <body>\n",
      "  <h1 id=\"1\">\n",
      "   Enter the main heading, usually the same as the title.\n",
      "  </h1>\n",
      "  <p>\n",
      "   Be\n",
      "   <b>\n",
      "    bold\n",
      "   </b>\n",
      "   in stating your key points. Put them in a list:\n",
      "  </p>\n",
      "  <ul>\n",
      "   <li>\n",
      "    The first item in your list\n",
      "   </li>\n",
      "   <li>\n",
      "    The second item;\n",
      "    <i>\n",
      "     italicize\n",
      "    </i>\n",
      "    key words\n",
      "   </li>\n",
      "  </ul>\n",
      "  <p class=\"2\">\n",
      "   Improve your image by including an image.\n",
      "  </p>\n",
      "  <p>\n",
      "   <img alt=\"A Great HTML Resource\" src=\"http://www.mygifs.com/CoverImage.gif\"/>\n",
      "  </p>\n",
      "  <p>\n",
      "   Add a link to your favorite\n",
      "   <a href=\"https://www.dummies.com/\">\n",
      "    Web site\n",
      "   </a>\n",
      "   .\n",
      "Break up your page with a horizontal rule or two.\n",
      "  </p>\n",
      "  <hr/>\n",
      "  <p>\n",
      "   Finally, link to\n",
      "   <a href=\"page2.html\">\n",
      "    another page\n",
      "   </a>\n",
      "   in your own Web site.\n",
      "  </p>\n",
      "  <!-- And add a copyright notice.-->\n",
      "  <p>\n",
      "   © Wiley Publishing, 2011\n",
      "  </p>\n",
      "  <h1 id=\"2\">\n",
      "   The second heading just for random testing purpose\n",
      "  </h1>\n",
      " </body>\n",
      "</html>\n"
     ]
    }
   ],
   "source": [
    "from bs4 import BeautifulSoup\n",
    "with open('./sample.html') as f:\n",
    "    print(BeautifulSoup(f,'lxml').prettify())"
   ]
  },
  {
   "cell_type": "markdown",
   "metadata": {},
   "source": [
    "#### We can see above that the head> tag is directly beneath the html> tag and the title> is beneath the head> tag. If we search for html> tag using the find_all() method, BeautifulSoup will find it because it is searching in all the descendants of html> tag."
   ]
  },
  {
   "cell_type": "code",
   "execution_count": 75,
   "metadata": {},
   "outputs": [
    {
     "name": "stdout",
     "output_type": "stream",
     "text": [
      "<title>Enter a title, displayed at the top of the window.</title>\n"
     ]
    }
   ],
   "source": [
    "from bs4 import BeautifulSoup\n",
    "with open('./sample.html') as f:\n",
    "    page_content = BeautifulSoup(f,'lxml')\n",
    "for tag in page_content.html.find_all('title'):\n",
    "    print(tag)\n"
   ]
  },
  {
   "cell_type": "code",
   "execution_count": 77,
   "metadata": {},
   "outputs": [],
   "source": [
    "# Since <title> tag is not a direct descendant of <html> tag, we will not get any output\n",
    "# By adding the recursive=False, we make sure that out search is restricted to only look at the <html> tag's direct children.\n",
    "from bs4 import BeautifulSoup\n",
    "with open('./sample.html') as f:\n",
    "    page_content = BeautifulSoup(f,'lxml')\n",
    "for tag in page_content.html.find_all('title', recursive = False):\n",
    "    print(tag)"
   ]
  },
  {
   "cell_type": "code",
   "execution_count": null,
   "metadata": {},
   "outputs": [],
   "source": []
  }
 ],
 "metadata": {
  "kernelspec": {
   "display_name": "Python 3",
   "language": "python",
   "name": "python3"
  },
  "language_info": {
   "codemirror_mode": {
    "name": "ipython",
    "version": 3
   },
   "file_extension": ".py",
   "mimetype": "text/x-python",
   "name": "python",
   "nbconvert_exporter": "python",
   "pygments_lexer": "ipython3",
   "version": "3.7.4"
  }
 },
 "nbformat": 4,
 "nbformat_minor": 2
}
