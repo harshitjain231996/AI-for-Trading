{
 "cells": [
  {
   "cell_type": "markdown",
   "metadata": {},
   "source": [
    "# BASICS OF STOCKS - SOME CONCEPTS"
   ]
  },
  {
   "cell_type": "markdown",
   "metadata": {},
   "source": [
    "1. Shares of stock represent fractional ownership in a company.\n",
    "2. There are two types of stocks in a company - Common Stocks and Preferred Stocks. \n",
    "3. The shareholders who hold common stocks usually get a portion of the company's profits in the form of dividents if the company distributes them. A divident is a payment made by the corporation to it's investors usually as a distribution of profits. Shareholder's also get a right to vote on matter's like who should be on the board of directors.\n",
    "4. If a company is liquidated due to bankrupcy, investors also get a portion of the remaining assets after all other stakeholders are compensated.\n",
    "5. Generally, ownership of shares in publically traded companies, companies whose stock is owned and traded by general public, entails limited liability. Limited liability means that the in case of bankrupcy the shareholders will not pay for the debts of the company.\n",
    "6. Shareholders holding preferred stocks are promised a fixed amount of income each year and they are paid before common stock holders get paid with their dividents. They usually do not have voting rights.\n",
    "7. The main advantage of holding stocks is the potential opportunity of the profit from selling it after it's value has increased. These increases in value are called capital gains."
   ]
  },
  {
   "cell_type": "markdown",
   "metadata": {},
   "source": [
    "1. Security - Financial Instrument that has some type of monetary value. Examples - Stocks, bonds and options.\n",
    "2. There are 3 types of securities - Debt Securities, Derivative Securities and Equity Securities.\n",
    "3. Debt Securities - Represents the money that is owed and must be repaid such as government or corporate bonds, or certificates of deposit. They are also called fixed income securities since they promise a stream of income over time in the form of interest either at a fixed rate or a rate derived by a formula.\n",
    "4. Derivative Securities - Value depends on prices of other assets. Example - ***Options*** and ***Futures Contracts.*** \n",
    "5. An option gives buyer the right, but not the obligation to buy or sell an underlying asset at a specified price on a specified date. Example - Employees stock options where the employeers frequently give the option to employee to buy companies stock at a lower price called the strike price and later sell it on the open market to sell it for profit.\n",
    "6. A futures contract obligates the buyer to buy or the seller to sell an underlying asset at a predetermined price at a specified time in the future. Example - A dairy farmer can currently sell milk for 2 dollars a gallon. Next month he plans on selling 200 gallons of milk but he is concerned about the fluctuations in the market price of milk will erode his profits. So the farmer enters into a futures contract with an investor. Under the agreement, he is obligated to sell 200 gallons of milk the next month but is guaranteed to get 400 dollars regardless of the price of milk at that time. This type of agreement will protect the farmer from the risk of catasrophic loss if the price of milk tanks but will also limit his ability to profit if the price of milk rises.\n",
    "7. ***Equity*** - The value of an owned asset minus the amount of debts or liabilities on that asset. Example - If someone has a car worth 15k and there is a debt of 5k then the equity of the car for the person - 10k. In short, it's the net value of something owned.\n",
    "8. Stocks are called equity securities since they represent ownership in a firm. A security representing ownership interest in a private company is called private equity."
   ]
  },
  {
   "cell_type": "markdown",
   "metadata": {},
   "source": [
    "1. Brokerage company acts as a middleman between buyer and seller and they charge to complete the transactions. If one buys stocks directly from the company, they don't need to pay anything to the brokerage company but one has less control over the time and price of the purchase. We cannot buy or sell at a specific market price or at a specific time.\n",
    "2. History of the stock is important and is an indicator of how the stock will do in the future.\n",
    "3. Market Bubble - It occurs when the market participants drive stock prices above their value in relation to some system of valuation."
   ]
  },
  {
   "cell_type": "code",
   "execution_count": null,
   "metadata": {},
   "outputs": [],
   "source": []
  }
 ],
 "metadata": {
  "kernelspec": {
   "display_name": "Python 3",
   "language": "python",
   "name": "python3"
  },
  "language_info": {
   "codemirror_mode": {
    "name": "ipython",
    "version": 3
   },
   "file_extension": ".py",
   "mimetype": "text/x-python",
   "name": "python",
   "nbconvert_exporter": "python",
   "pygments_lexer": "ipython3",
   "version": "3.7.4"
  }
 },
 "nbformat": 4,
 "nbformat_minor": 2
}
