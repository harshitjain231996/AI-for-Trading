{
 "cells": [
  {
   "cell_type": "markdown",
   "metadata": {},
   "source": [
    "# Corporate Actions\n",
    "1. The actions a company can take that can affect it's shareholders. There are several types of corporate actions but we will discuss two of them namely stock splits and dividents.\n",
    "2. ***Stock splits*** - When a stock is split, it's price is divided into the number of portions in which the particular stock is split in. This makes sure that the total market capitalization has not changed by stock split. Total market capitalization - dollar value of a company's outstanding share. Total Market Capitalization = Stock Price * Total number of shares outstanding. To keep the market capitalization same, the stock price needs to go down by the factor with which the company has splitted it's stock into.\n",
    "3. One of the reasons for stock split is having more liquidity in the market. Since the price of the stock goes down, the investors are more keen on buying the share. So, this maintains a healthy volume of the stock being traded in the market.\n",
    "4. When we look at the graph, we will see that after a stock split, the price of the share drops drastically and this will make the viewer think that the company has lost it's value. But it's actually not true since the stock has been split and so the price of the stock has been dropped drastically but the company's value has not changed from the split.\n",
    "5. Inorder to normalize the stock, we will drop the price of the stock before the split occured into the portion the company has decided the split to occur into. For example - If the stock splits into half, the price of the stock before stock splitting into half should be also split into half and so this will lead to the entire data of the stock i.e. even before and after splitting normalized. This approach of normalizing stock is called ***adjusted price***."
   ]
  },
  {
   "cell_type": "markdown",
   "metadata": {},
   "source": [
    "# Dividends\n",
    "1. Partial cash distribution of company earnings. They are not paid to every share holder. A shareholder at the time of payout must hold stocks before the ex-dividend date.Only in that case the shareholder will receive the dividend from the company. An ex-dividend date is the cutoff point to receive the future dividends.\n",
    "2. Adjusted Price Factor = 1 + (D/S) where D - divident, S - stock price at ex-dividend date. To normalize the stock prices prior to dividend, divide by adjusted price factor."
   ]
  },
  {
   "cell_type": "markdown",
   "metadata": {},
   "source": [
    "# Concept of Simple Moving Average/ Rolling Mean and Bollinger Bands\n",
    "1. Simple Moving Average or Rolling Mean - Computing the average in a fixed length window of a stock over a period of time. So we take a window which is spanning across a particular time period and then computing the average over that window and slowly with each computation, we are sliding the window and finding the average for each window.\n",
    "2. If a stock falls too below it's average, then we should buy it or if it rises too much above it's average, then we should sell. Determining the too much below and too much high is the challenging part and it cannot be always quantified by a given fixed number since different stocks trade at different prices. So a better idea will be to compute the jumpingness or the volatility of the stock.\n",
    "3. We compute the standard deviation of the sliding window across different time periods as we did above for average. This concept of computing standard deviation across the boxes of different timezones is called bollinger bands. There will be 2 bollinger bands against a rolling mean graph. We get the rolling mean graph by joining all the points we get after computing rolling mean across the graph via the sliding windows. \n",
    "4. If a point falls below bollinger band, we really do not know whether it's going to keep on falling further or is it going to further rise up.\n",
    "5. Inflection point - When price of stock price is outside of the bollinger band several times.\n",
    "6. If a point is below the bollinger band and then it slowly starts to rise up and crawl towards mean, that should be a good time to buy the stock. We are buying when the price increases back towards the mean. On the other side, if we look at the above bollinger band and the inflection point above is slowly crawling towards mean i.e. price is decreasing towards mean, then we should sell the stock.\n",
    "7. Simple moving average and standard deviation are the trading signals we used as a technical indicator to buy or sell the stock."
   ]
  },
  {
   "cell_type": "markdown",
   "metadata": {},
   "source": [
    "1. Dividing sales by the number of shares helps the shareholder get a sense of how much the sales figures might impact a change in a single share price \n",
    "2. After a company has positive earnings, they may decide to either reinvest the cash in growing the company’s business. A company’s executives are usually expected to make spending decisions based on maximizing shareholder value. If the executives decide that re-investing in the business yields lower returns than an investor could gain from investing in a similar business at the same level of risk, they will give some of the earnings to shareholders as cash. This cash is referred to as ***dividends***."
   ]
  },
  {
   "cell_type": "markdown",
   "metadata": {},
   "source": [
    "# Different types of traded funds\n",
    "1. Many banks and other financial institutons offer investment funds which are managed by professionals. Mutual Funds are one such option which pull in money from multiple investors and then buy shares on their behalf.\n",
    "2. Funds are classified depending on the goals of the investor. Example - A mutual fund might have low return but the risk is very low whereas a mutual fund might give high return but the risk is very high.\n",
    "3. Some funds might track the performance of a specific sector such as infrastructure, tech, electronics and so on.\n",
    "4. Some funds are traded on stock exchange themselves i.e. to invest money in these funds we need to buy them from the market hence they are known as Exchange Traded Funds or ETS. They are very popular as they tend to produce some growth as long as the sector they are tracking is generating profits. Example - S&P 500. S&P 500 includes 500 companies with a large market capitalization that trade on NYSE or NASSDAQ from very diverse sectors. Their compensation can vary over time.\n",
    "5. The sources of information we have considered so far such as market data, corporate actions and fundamental data is standard and used by everyone. It's small as compared to the amount of data that can affect the market. There are more useful information available such as news articles, social media posts, satellite images, consumer data which can predict the sales and revenue long before official announcements and so on which can affect the market of the company."
   ]
  },
  {
   "cell_type": "code",
   "execution_count": null,
   "metadata": {},
   "outputs": [],
   "source": []
  }
 ],
 "metadata": {
  "kernelspec": {
   "display_name": "Python 3",
   "language": "python",
   "name": "python3"
  },
  "language_info": {
   "codemirror_mode": {
    "name": "ipython",
    "version": 3
   },
   "file_extension": ".py",
   "mimetype": "text/x-python",
   "name": "python",
   "nbconvert_exporter": "python",
   "pygments_lexer": "ipython3",
   "version": "3.7.4"
  }
 },
 "nbformat": 4,
 "nbformat_minor": 2
}
