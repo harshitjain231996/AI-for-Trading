{
 "cells": [
  {
   "cell_type": "markdown",
   "metadata": {},
   "source": [
    "***Trading Strategy*** - A set of rules that determine what stocks to trade, when to trade and how much money to invest. Since a common trading strategy might be used by majority of people as it is available in books, we need to design our own trading strategy. Whatever it might be, it is important to treat it as a hypothesis and test against data to see if it holds up.\n",
    "\n",
    "***Momentum*** - Rising stock prices seem to continue rising for some time whereas falling stock seems to fall. People want to make money. Sometimes they follow the herd or sometimes they undervalue the news. If any investor follows the momentum based signals, then in that case the investor should sell the underperforming assets and buy the one's which are showing good growth since they are more likely to increase for a period of time.\n",
    "\n",
    "Once we have found a signal that seems to indicate the future performance of a stock, we can use it wisely. For instance, if a stock has upward momentum then we might want to buy some shares and hold on to it for a fixed period of time or till we see the stock fall and this is called taking a ***long position on the stock***. When we sell the stock it is known as closing the position of the stock.\n",
    "\n",
    "If the stock has downward momentum, then we can sell the stock and then buy back again when the price has decreased further. This is called taking the ***short position on the stock***. \n",
    "\n",
    "Long - A long (or long position) is the purchase of an asset under the expectation that the price of the asset will rise.\n",
    "\n",
    "Short - A short (or short position) is the selling of an asset under the expectation that the price of the asset will decline. In practice, an investor profits from a short position by borrowing shares from a brokerage firm (agreeing to pay an interest rate as a fee), selling them on the open market, and later buying them back on the open market at a lower price and returning them to the brokerage firm.\n",
    "\n",
    "We need to take care of the survivorship bias since we will be better off using it. The top performing stocks should be placed in long portfolio and the bottom performing stocks in the short portfolio. The combined portfolio return is the difference between the average long portfolio return and the average short portfolio return.\n",
    "\n",
    "\n"
   ]
  },
  {
   "cell_type": "markdown",
   "metadata": {},
   "source": [
    "T-statistic = (mean return)/(standard error of the mean) \n",
    "where standard error of the mean = (standard deviation)/sqrt(number of samples)\n",
    "."
   ]
  },
  {
   "cell_type": "code",
   "execution_count": null,
   "metadata": {},
   "outputs": [],
   "source": []
  }
 ],
 "metadata": {
  "kernelspec": {
   "display_name": "Python 3",
   "language": "python",
   "name": "python3"
  },
  "language_info": {
   "codemirror_mode": {
    "name": "ipython",
    "version": 3
   },
   "file_extension": ".py",
   "mimetype": "text/x-python",
   "name": "python",
   "nbconvert_exporter": "python",
   "pygments_lexer": "ipython3",
   "version": "3.7.4"
  }
 },
 "nbformat": 4,
 "nbformat_minor": 2
}
